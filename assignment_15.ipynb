{
  "nbformat": 4,
  "nbformat_minor": 0,
  "metadata": {
    "colab": {
      "name": "assignment_15.ipynb",
      "version": "0.3.2",
      "provenance": [],
      "include_colab_link": true
    },
    "kernelspec": {
      "name": "python3",
      "display_name": "Python 3"
    }
  },
  "cells": [
    {
      "cell_type": "markdown",
      "metadata": {
        "id": "view-in-github",
        "colab_type": "text"
      },
      "source": [
        "[View in Colaboratory](https://colab.research.google.com/github/himu30/Machine_learning_with_python/blob/master/assignment_15.ipynb)"
      ]
    },
    {
      "metadata": {
        "id": "2Qerua-8x3Xj",
        "colab_type": "text"
      },
      "cell_type": "markdown",
      "source": [
        "# Assignment - 15  SVM(support Vector Machine)"
      ]
    },
    {
      "metadata": {
        "id": "iIoVrgaGyElk",
        "colab_type": "code",
        "colab": {}
      },
      "cell_type": "code",
      "source": [
        "#Importing libraries\n",
        "import pandas as pd\n",
        "import matplotlib.pyplot as plt\n",
        "import numpy as np\n"
      ],
      "execution_count": 0,
      "outputs": []
    },
    {
      "metadata": {
        "id": "USY3EKJO101t",
        "colab_type": "text"
      },
      "cell_type": "markdown",
      "source": [
        "**Q-1.) Loading Datset from sklearn**"
      ]
    },
    {
      "metadata": {
        "id": "yhW6119vx2fA",
        "colab_type": "code",
        "colab": {
          "base_uri": "https://localhost:8080/",
          "height": 141
        },
        "outputId": "3fef2165-3dfb-4097-973b-c2fbb0fc477d"
      },
      "cell_type": "code",
      "source": [
        "#Importing Dataset from sklearn\n",
        "from sklearn.datasets import load_digits\n",
        "digit = load_digits()\n",
        "print(digit.data)"
      ],
      "execution_count": 4,
      "outputs": [
        {
          "output_type": "stream",
          "text": [
            "[[ 0.  0.  5. ...  0.  0.  0.]\n",
            " [ 0.  0.  0. ... 10.  0.  0.]\n",
            " [ 0.  0.  0. ... 16.  9.  0.]\n",
            " ...\n",
            " [ 0.  0.  1. ...  6.  0.  0.]\n",
            " [ 0.  0.  2. ... 12.  0.  0.]\n",
            " [ 0.  0. 10. ... 12.  1.  0.]]\n"
          ],
          "name": "stdout"
        }
      ]
    },
    {
      "metadata": {
        "id": "RMeYPX191h_e",
        "colab_type": "code",
        "colab": {
          "base_uri": "https://localhost:8080/",
          "height": 34
        },
        "outputId": "1a2b5b6f-a81c-4dcb-cd18-cb264a0d6960"
      },
      "cell_type": "code",
      "source": [
        "#shape of dataset\n",
        "digit.data.shape"
      ],
      "execution_count": 5,
      "outputs": [
        {
          "output_type": "execute_result",
          "data": {
            "text/plain": [
              "(1797, 64)"
            ]
          },
          "metadata": {
            "tags": []
          },
          "execution_count": 5
        }
      ]
    },
    {
      "metadata": {
        "id": "RhwlXwYg1znA",
        "colab_type": "code",
        "colab": {
          "base_uri": "https://localhost:8080/",
          "height": 170
        },
        "outputId": "25614bb6-a75b-44e7-ad0d-68d013812c70"
      },
      "cell_type": "code",
      "source": [
        "\n",
        "#look of image in digit dataset\n",
        "plt.figure(figsize = (10,4))\n",
        "for index, (image,label) in enumerate(zip(digit.data[0:5], digit.target[0:5])):\n",
        "  plt.subplot(1, 5, index+1)\n",
        "  plt.imshow(np.reshape(image ,(8,8)), cmap=plt.cm.gray)\n",
        "  plt.title('Training %i\\n'%label,fontsize = 10)"
      ],
      "execution_count": 9,
      "outputs": [
        {
          "output_type": "display_data",
          "data": {
            "image/png": "[encoded data removed]",
            "text/plain": [
              "<matplotlib.figure.Figure at 0x7f723e3ade80>"
            ]
          },
          "metadata": {
            "tags": []
          }
        }
      ]
    },
    {
      "metadata": {
        "id": "GEdi68RR4ovu",
        "colab_type": "text"
      },
      "cell_type": "markdown",
      "source": [
        "**Q-2.) Splitting of dataset into training and dataset**"
      ]
    },
    {
      "metadata": {
        "id": "TTs6KH0e18MG",
        "colab_type": "code",
        "colab": {}
      },
      "cell_type": "code",
      "source": [
        "#splitting of mnist dataset into training and testing\n",
        "from sklearn.model_selection import train_test_split\n",
        "\n",
        "x_train, x_test, y_train, y_test = train_test_split(digit.data , digit.target , test_size = 0.4, random_state= 20)"
      ],
      "execution_count": 0,
      "outputs": []
    },
    {
      "metadata": {
        "id": "QPBGu8myURXJ",
        "colab_type": "text"
      },
      "cell_type": "markdown",
      "source": [
        "**Q-3.)USE OF SVM KERNELS**"
      ]
    },
    {
      "metadata": {
        "id": "Kd67RPWW4dG-",
        "colab_type": "code",
        "colab": {
          "base_uri": "https://localhost:8080/",
          "height": 87
        },
        "outputId": "b8280730-7b96-4aa7-aa15-38a83160e0c4"
      },
      "cell_type": "code",
      "source": [
        "#Use of SVM Kernels\n",
        "from sklearn.svm import SVC\n",
        "svm_clf = SVC()\n",
        "\n",
        "#fitting into SVM model\n",
        "svm_clf.fit(x_train , y_train)"
      ],
      "execution_count": 17,
      "outputs": [
        {
          "output_type": "execute_result",
          "data": {
            "text/plain": [
              "SVC(C=1.0, cache_size=200, class_weight=None, coef0=0.0,\n",
              "  decision_function_shape='ovr', degree=3, gamma='auto', kernel='rbf',\n",
              "  max_iter=-1, probability=False, random_state=None, shrinking=True,\n",
              "  tol=0.001, verbose=False)"
            ]
          },
          "metadata": {
            "tags": []
          },
          "execution_count": 17
        }
      ]
    },
    {
      "metadata": {
        "id": "cmASDpW74xk7",
        "colab_type": "code",
        "colab": {
          "base_uri": "https://localhost:8080/",
          "height": 87
        },
        "outputId": "ccdb1028-a2b9-4d7e-cd31-ccf452634884"
      },
      "cell_type": "code",
      "source": [
        "#Use of Linear SVM Kernel\n",
        "from sklearn.svm import LinearSVC\n",
        "lin_svm = LinearSVC()\n",
        "\n",
        "lin_svm.fit(x_train , y_train)"
      ],
      "execution_count": 14,
      "outputs": [
        {
          "output_type": "execute_result",
          "data": {
            "text/plain": [
              "LinearSVC(C=1.0, class_weight=None, dual=True, fit_intercept=True,\n",
              "     intercept_scaling=1, loss='squared_hinge', max_iter=1000,\n",
              "     multi_class='ovr', penalty='l2', random_state=None, tol=0.0001,\n",
              "     verbose=0)"
            ]
          },
          "metadata": {
            "tags": []
          },
          "execution_count": 14
        }
      ]
    },
    {
      "metadata": {
        "id": "rGqAMSsh7swn",
        "colab_type": "code",
        "colab": {}
      },
      "cell_type": "code",
      "source": [
        "#Linear SVM Prediction\n",
        "lin_pred = lin_svm.predict(x_test)"
      ],
      "execution_count": 0,
      "outputs": []
    },
    {
      "metadata": {
        "id": "MFO2Bnfj8pDz",
        "colab_type": "code",
        "colab": {
          "base_uri": "https://localhost:8080/",
          "height": 194
        },
        "outputId": "4778ed5a-e59d-4cc5-9c3e-dfd75b6a04f2"
      },
      "cell_type": "code",
      "source": [
        "#confusion matrix for Linear kernel\n",
        "from sklearn.metrics import confusion_matrix\n",
        "confusion_matrix(y_test,lin_pred)"
      ],
      "execution_count": 20,
      "outputs": [
        {
          "output_type": "execute_result",
          "data": {
            "text/plain": [
              "array([[62,  0,  1,  0,  0,  0,  0,  0,  0,  0],\n",
              "       [ 0, 71,  0,  2,  0,  0,  0,  0,  2,  0],\n",
              "       [ 0,  0, 60,  1,  0,  0,  0,  0,  2,  0],\n",
              "       [ 0,  0,  0, 77,  0,  0,  0,  0,  2,  1],\n",
              "       [ 0,  1,  0,  0, 74,  0,  0,  0,  0,  0],\n",
              "       [ 1,  0,  0,  0,  0, 68,  0,  0,  0,  2],\n",
              "       [ 0,  0,  0,  0,  0,  2, 69,  0,  0,  0],\n",
              "       [ 0,  0,  0,  0,  0,  0,  0, 78,  0,  2],\n",
              "       [ 0,  4,  2,  1,  0,  0,  2,  1, 54,  0],\n",
              "       [ 0,  1,  0,  1,  0,  1,  0,  0,  5, 69]])"
            ]
          },
          "metadata": {
            "tags": []
          },
          "execution_count": 20
        }
      ]
    },
    {
      "metadata": {
        "id": "6P_CY0hd_hdC",
        "colab_type": "code",
        "colab": {
          "base_uri": "https://localhost:8080/",
          "height": 54
        },
        "outputId": "53132be3-54e1-4297-bf6f-3814c8c65828"
      },
      "cell_type": "code",
      "source": [
        "#classification report for linear svm kernel\n",
        "from sklearn.metrics import classification_report\n",
        "classification_report(y_test ,lin_pred)"
      ],
      "execution_count": 21,
      "outputs": [
        {
          "output_type": "execute_result",
          "data": {
            "text/plain": [
              "'             precision    recall  f1-score   support\\n\\n          0       0.98      0.98      0.98        63\\n          1       0.92      0.95      0.93        75\\n          2       0.95      0.95      0.95        63\\n          3       0.94      0.96      0.95        80\\n          4       1.00      0.99      0.99        75\\n          5       0.96      0.96      0.96        71\\n          6       0.97      0.97      0.97        71\\n          7       0.99      0.97      0.98        80\\n          8       0.83      0.84      0.84        64\\n          9       0.93      0.90      0.91        77\\n\\navg / total       0.95      0.95      0.95       719\\n'"
            ]
          },
          "metadata": {
            "tags": []
          },
          "execution_count": 21
        }
      ]
    },
    {
      "metadata": {
        "id": "XGSZTVpnAB-0",
        "colab_type": "code",
        "colab": {
          "base_uri": "https://localhost:8080/",
          "height": 34
        },
        "outputId": "fe371db2-c9ab-4281-a0fe-b3d0307b8ceb"
      },
      "cell_type": "code",
      "source": [
        "#Linear svm performance\n",
        "lin_svm.score(x_test , y_test)"
      ],
      "execution_count": 22,
      "outputs": [
        {
          "output_type": "execute_result",
          "data": {
            "text/plain": [
              "0.9485396383866481"
            ]
          },
          "metadata": {
            "tags": []
          },
          "execution_count": 22
        }
      ]
    },
    {
      "metadata": {
        "id": "qKK5o6N_DDSR",
        "colab_type": "text"
      },
      "cell_type": "markdown",
      "source": [
        "**Use of SVM with Gaussian KERNEL**"
      ]
    },
    {
      "metadata": {
        "id": "qXxEfCpoAhEO",
        "colab_type": "code",
        "colab": {
          "base_uri": "https://localhost:8080/",
          "height": 87
        },
        "outputId": "9b12c61b-e444-4706-c77e-9d053c00367e"
      },
      "cell_type": "code",
      "source": [
        "#RBF or Gaussian kernel\n",
        "rbf_svm = SVC(kernel = \"rbf\")\n",
        "rbf_svm.fit(x_train ,y_train)"
      ],
      "execution_count": 41,
      "outputs": [
        {
          "output_type": "execute_result",
          "data": {
            "text/plain": [
              "SVC(C=1.0, cache_size=200, class_weight=None, coef0=0.0,\n",
              "  decision_function_shape='ovr', degree=3, gamma='auto', kernel='rbf',\n",
              "  max_iter=-1, probability=False, random_state=None, shrinking=True,\n",
              "  tol=0.001, verbose=False)"
            ]
          },
          "metadata": {
            "tags": []
          },
          "execution_count": 41
        }
      ]
    },
    {
      "metadata": {
        "id": "r5b8K_fXBcfS",
        "colab_type": "code",
        "colab": {
          "base_uri": "https://localhost:8080/",
          "height": 194
        },
        "outputId": "4d5b209e-692d-4efc-ed48-7946841b8c55"
      },
      "cell_type": "code",
      "source": [
        "#prediction using rbf kernel\n",
        "rbf_pred = rbf_svm.predict(x_test)\n",
        "\n",
        "#Confusion matrix for rbf kernel\n",
        "from sklearn.metrics import confusion_matrix\n",
        "confusion_matrix(y_test,rbf_pred)"
      ],
      "execution_count": 42,
      "outputs": [
        {
          "output_type": "execute_result",
          "data": {
            "text/plain": [
              "array([[47,  0,  0,  0,  0, 16,  0,  0,  0,  0],\n",
              "       [ 0, 24,  0,  0,  0, 51,  0,  0,  0,  0],\n",
              "       [ 0,  0, 59,  0,  0,  4,  0,  0,  0,  0],\n",
              "       [ 0,  0,  0, 12,  0, 68,  0,  0,  0,  0],\n",
              "       [ 0,  0,  0,  0, 21, 54,  0,  0,  0,  0],\n",
              "       [ 0,  0,  0,  0,  0, 71,  0,  0,  0,  0],\n",
              "       [ 0,  0,  0,  0,  0, 29, 42,  0,  0,  0],\n",
              "       [ 0,  0,  0,  0,  0, 67,  0, 13,  0,  0],\n",
              "       [ 0,  0,  0,  0,  0, 29,  0,  0, 35,  0],\n",
              "       [ 0,  0,  0,  0,  0, 70,  0,  0,  0,  7]])"
            ]
          },
          "metadata": {
            "tags": []
          },
          "execution_count": 42
        }
      ]
    },
    {
      "metadata": {
        "id": "c40V77HOCQam",
        "colab_type": "code",
        "colab": {
          "base_uri": "https://localhost:8080/",
          "height": 54
        },
        "outputId": "7b8c9928-e129-4267-e315-9e292030a6f9"
      },
      "cell_type": "code",
      "source": [
        "#classification report for RBF kernel using svm\n",
        "from sklearn.metrics import classification_report\n",
        "classification_report(y_test ,rbf_pred)"
      ],
      "execution_count": 29,
      "outputs": [
        {
          "output_type": "execute_result",
          "data": {
            "text/plain": [
              "'             precision    recall  f1-score   support\\n\\n          0       1.00      0.75      0.85        63\\n          1       1.00      0.32      0.48        75\\n          2       1.00      0.94      0.97        63\\n          3       1.00      0.15      0.26        80\\n          4       1.00      0.28      0.44        75\\n          5       0.15      1.00      0.27        71\\n          6       1.00      0.59      0.74        71\\n          7       1.00      0.16      0.28        80\\n          8       1.00      0.55      0.71        64\\n          9       1.00      0.09      0.17        77\\n\\navg / total       0.92      0.46      0.50       719\\n'"
            ]
          },
          "metadata": {
            "tags": []
          },
          "execution_count": 29
        }
      ]
    },
    {
      "metadata": {
        "id": "G9OYYp01C-na",
        "colab_type": "code",
        "colab": {
          "base_uri": "https://localhost:8080/",
          "height": 34
        },
        "outputId": "99621f5e-4198-47a8-ddb1-c6c030f080b3"
      },
      "cell_type": "code",
      "source": [
        "#Model performance\n",
        "rbf_svm.score(x_test,y_test)"
      ],
      "execution_count": 31,
      "outputs": [
        {
          "output_type": "execute_result",
          "data": {
            "text/plain": [
              "0.4603616133518776"
            ]
          },
          "metadata": {
            "tags": []
          },
          "execution_count": 31
        }
      ]
    },
    {
      "metadata": {
        "id": "sh3S8n7WEgvk",
        "colab_type": "text"
      },
      "cell_type": "markdown",
      "source": [
        "**Use of SVM with Polynomial Kernel **"
      ]
    },
    {
      "metadata": {
        "id": "cZ9p54UrDnPq",
        "colab_type": "code",
        "colab": {
          "base_uri": "https://localhost:8080/",
          "height": 87
        },
        "outputId": "12fa764c-05f4-4cc0-a39b-a2ac5c4f6bd1"
      },
      "cell_type": "code",
      "source": [
        "#Polynomial kernel\n",
        "pol_svm = SVC(kernel = \"poly\")\n",
        "pol_svm.fit(x_train ,y_train)"
      ],
      "execution_count": 43,
      "outputs": [
        {
          "output_type": "execute_result",
          "data": {
            "text/plain": [
              "SVC(C=1.0, cache_size=200, class_weight=None, coef0=0.0,\n",
              "  decision_function_shape='ovr', degree=3, gamma='auto', kernel='poly',\n",
              "  max_iter=-1, probability=False, random_state=None, shrinking=True,\n",
              "  tol=0.001, verbose=False)"
            ]
          },
          "metadata": {
            "tags": []
          },
          "execution_count": 43
        }
      ]
    },
    {
      "metadata": {
        "id": "anqj4pdPFGrL",
        "colab_type": "code",
        "colab": {
          "base_uri": "https://localhost:8080/",
          "height": 194
        },
        "outputId": "657e4258-9bcb-43d9-b608-e8a8d7f416da"
      },
      "cell_type": "code",
      "source": [
        "#prediction using polunomial kernel\n",
        "pol_pred = pol_svm.predict(x_test)\n",
        "\n",
        "#Confusion matrix for polynomial kernel\n",
        "from sklearn.metrics import confusion_matrix\n",
        "confusion_matrix(y_test,pol_pred)"
      ],
      "execution_count": 44,
      "outputs": [
        {
          "output_type": "execute_result",
          "data": {
            "text/plain": [
              "array([[63,  0,  0,  0,  0,  0,  0,  0,  0,  0],\n",
              "       [ 0, 75,  0,  0,  0,  0,  0,  0,  0,  0],\n",
              "       [ 0,  0, 63,  0,  0,  0,  0,  0,  0,  0],\n",
              "       [ 0,  0,  0, 77,  0,  2,  0,  1,  0,  0],\n",
              "       [ 0,  0,  0,  0, 75,  0,  0,  0,  0,  0],\n",
              "       [ 0,  0,  0,  0,  0, 70,  0,  0,  0,  1],\n",
              "       [ 0,  1,  0,  0,  0,  1, 69,  0,  0,  0],\n",
              "       [ 0,  0,  0,  0,  0,  0,  0, 79,  0,  1],\n",
              "       [ 0,  0,  0,  0,  0,  0,  0,  0, 64,  0],\n",
              "       [ 0,  0,  0,  0,  0,  3,  0,  1,  0, 73]])"
            ]
          },
          "metadata": {
            "tags": []
          },
          "execution_count": 44
        }
      ]
    },
    {
      "metadata": {
        "id": "-bmp644RG1lj",
        "colab_type": "code",
        "colab": {
          "base_uri": "https://localhost:8080/",
          "height": 54
        },
        "outputId": "1721dd90-cf9c-4b55-ccb9-ee4ef63c8bee"
      },
      "cell_type": "code",
      "source": [
        "#classification report for polynomial kernel using svm\n",
        "from sklearn.metrics import classification_report\n",
        "classification_report(y_test ,pol_pred)"
      ],
      "execution_count": 45,
      "outputs": [
        {
          "output_type": "execute_result",
          "data": {
            "text/plain": [
              "'             precision    recall  f1-score   support\\n\\n          0       1.00      1.00      1.00        63\\n          1       0.99      1.00      0.99        75\\n          2       1.00      1.00      1.00        63\\n          3       1.00      0.96      0.98        80\\n          4       1.00      1.00      1.00        75\\n          5       0.92      0.99      0.95        71\\n          6       1.00      0.97      0.99        71\\n          7       0.98      0.99      0.98        80\\n          8       1.00      1.00      1.00        64\\n          9       0.97      0.95      0.96        77\\n\\navg / total       0.99      0.98      0.98       719\\n'"
            ]
          },
          "metadata": {
            "tags": []
          },
          "execution_count": 45
        }
      ]
    },
    {
      "metadata": {
        "id": "9Ox5qOGcHDTr",
        "colab_type": "code",
        "colab": {
          "base_uri": "https://localhost:8080/",
          "height": 34
        },
        "outputId": "c3c2a661-492b-4da3-eab5-ab4af2c713d5"
      },
      "cell_type": "code",
      "source": [
        "#Model performance\n",
        "pol_svm.score(x_test,y_test)"
      ],
      "execution_count": 46,
      "outputs": [
        {
          "output_type": "execute_result",
          "data": {
            "text/plain": [
              "0.9847009735744089"
            ]
          },
          "metadata": {
            "tags": []
          },
          "execution_count": 46
        }
      ]
    },
    {
      "metadata": {
        "id": "j-pSkO8kHNx4",
        "colab_type": "text"
      },
      "cell_type": "markdown",
      "source": [
        "**Use of SVM with sigmoid kernel**"
      ]
    },
    {
      "metadata": {
        "id": "jTspxF_nHMRP",
        "colab_type": "code",
        "colab": {
          "base_uri": "https://localhost:8080/",
          "height": 87
        },
        "outputId": "16dd1793-12e0-4fe0-86ea-87516bb56472"
      },
      "cell_type": "code",
      "source": [
        "#Sigmoid kernel\n",
        "sig_svm = SVC(kernel = \"sigmoid\")\n",
        "sig_svm.fit(x_train ,y_train)"
      ],
      "execution_count": 47,
      "outputs": [
        {
          "output_type": "execute_result",
          "data": {
            "text/plain": [
              "SVC(C=1.0, cache_size=200, class_weight=None, coef0=0.0,\n",
              "  decision_function_shape='ovr', degree=3, gamma='auto', kernel='sigmoid',\n",
              "  max_iter=-1, probability=False, random_state=None, shrinking=True,\n",
              "  tol=0.001, verbose=False)"
            ]
          },
          "metadata": {
            "tags": []
          },
          "execution_count": 47
        }
      ]
    },
    {
      "metadata": {
        "id": "D1JfWym_Hzjt",
        "colab_type": "code",
        "colab": {
          "base_uri": "https://localhost:8080/",
          "height": 194
        },
        "outputId": "48cb2ad4-c647-4369-b456-3ae5de03f809"
      },
      "cell_type": "code",
      "source": [
        "#prediction using sigmoid kernel\n",
        "sig_pred = sig_svm.predict(x_test)\n",
        "\n",
        "#Confusion matrix for polynomial kernel\n",
        "from sklearn.metrics import confusion_matrix\n",
        "confusion_matrix(y_test,sig_pred)"
      ],
      "execution_count": 48,
      "outputs": [
        {
          "output_type": "execute_result",
          "data": {
            "text/plain": [
              "array([[63,  0,  0,  0,  0,  0,  0,  0,  0,  0],\n",
              "       [75,  0,  0,  0,  0,  0,  0,  0,  0,  0],\n",
              "       [63,  0,  0,  0,  0,  0,  0,  0,  0,  0],\n",
              "       [80,  0,  0,  0,  0,  0,  0,  0,  0,  0],\n",
              "       [75,  0,  0,  0,  0,  0,  0,  0,  0,  0],\n",
              "       [71,  0,  0,  0,  0,  0,  0,  0,  0,  0],\n",
              "       [71,  0,  0,  0,  0,  0,  0,  0,  0,  0],\n",
              "       [80,  0,  0,  0,  0,  0,  0,  0,  0,  0],\n",
              "       [64,  0,  0,  0,  0,  0,  0,  0,  0,  0],\n",
              "       [77,  0,  0,  0,  0,  0,  0,  0,  0,  0]])"
            ]
          },
          "metadata": {
            "tags": []
          },
          "execution_count": 48
        }
      ]
    },
    {
      "metadata": {
        "id": "dMi7oLi5Pg_J",
        "colab_type": "code",
        "colab": {
          "base_uri": "https://localhost:8080/",
          "height": 90
        },
        "outputId": "af9c31b8-a268-44f8-970d-491c8b68083a"
      },
      "cell_type": "code",
      "source": [
        "#classification report for polynomial kernel using svm\n",
        "from sklearn.metrics import classification_report\n",
        "classification_report(y_test ,sig_pred)"
      ],
      "execution_count": 49,
      "outputs": [
        {
          "output_type": "stream",
          "text": [
            "/usr/local/lib/python3.6/dist-packages/sklearn/metrics/classification.py:1135: UndefinedMetricWarning: Precision and F-score are ill-defined and being set to 0.0 in labels with no predicted samples.\n",
            "  'precision', 'predicted', average, warn_for)\n"
          ],
          "name": "stderr"
        },
        {
          "output_type": "execute_result",
          "data": {
            "text/plain": [
              "'             precision    recall  f1-score   support\\n\\n          0       0.09      1.00      0.16        63\\n          1       0.00      0.00      0.00        75\\n          2       0.00      0.00      0.00        63\\n          3       0.00      0.00      0.00        80\\n          4       0.00      0.00      0.00        75\\n          5       0.00      0.00      0.00        71\\n          6       0.00      0.00      0.00        71\\n          7       0.00      0.00      0.00        80\\n          8       0.00      0.00      0.00        64\\n          9       0.00      0.00      0.00        77\\n\\navg / total       0.01      0.09      0.01       719\\n'"
            ]
          },
          "metadata": {
            "tags": []
          },
          "execution_count": 49
        }
      ]
    },
    {
      "metadata": {
        "id": "QtkrM_LAQEP5",
        "colab_type": "code",
        "colab": {
          "base_uri": "https://localhost:8080/",
          "height": 34
        },
        "outputId": "c1f08a9b-5d4c-43d2-a5de-22d83d9e32ce"
      },
      "cell_type": "code",
      "source": [
        "#Model performance\n",
        "sig_svm.score(x_test,y_test)"
      ],
      "execution_count": 50,
      "outputs": [
        {
          "output_type": "execute_result",
          "data": {
            "text/plain": [
              "0.08762169680111266"
            ]
          },
          "metadata": {
            "tags": []
          },
          "execution_count": 50
        }
      ]
    },
    {
      "metadata": {
        "id": "Y4l08UvEQZDB",
        "colab_type": "code",
        "colab": {}
      },
      "cell_type": "code",
      "source": [
        ""
      ],
      "execution_count": 0,
      "outputs": []
    }
  ]
}