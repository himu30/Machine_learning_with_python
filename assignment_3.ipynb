{
  "nbformat": 4,
  "nbformat_minor": 0,
  "metadata": {
    "colab": {
      "name": "assignment_3.ipynb",
      "version": "0.3.2",
      "provenance": []
    },
    "kernelspec": {
      "name": "python3",
      "display_name": "Python 3"
    }
  },
  "cells": [
    {
      "cell_type": "markdown",
      "metadata": {
        "id": "view-in-github",
        "colab_type": "text"
      },
      "source": [
        "[View in Colaboratory](https://colab.research.google.com/github/himu30/Machine_learning_with_python/blob/master/assignment_3.ipynb)"
      ]
    },
    {
      "metadata": {
        "id": "DE8v1hvlNJ7y",
        "colab_type": "text"
      },
      "cell_type": "markdown",
      "source": [
        "# question-***1***"
      ]
    },
    {
      "metadata": {
        "id": "-PZiqYD8M7d3",
        "colab_type": "code",
        "colab": {
          "base_uri": "https://localhost:8080/",
          "height": 34
        },
        "outputId": "50c0d3a7-352b-4c9a-f806-aafdefa93825"
      },
      "cell_type": "code",
      "source": [
        "#function for conditional probability\n",
        "\n",
        "#function for cal p(b/a) as b_a\n",
        "def f( x, y, z):\n",
        "  b_a=(z*x)/y\n",
        "  return b_a\n",
        "#here in above function x,y and z is p(a),p(b),p(a/b) respectively\n",
        "p_a = 11/36\n",
        "p_b = 6/36\n",
        "p_a_b= 2/36\n",
        "\n",
        "#passing given values to functions\n",
        "print(f(p_a,p_b,p_a_b))"
      ],
      "execution_count": 6,
      "outputs": [
        {
          "output_type": "stream",
          "text": [
            "0.10185185185185185\n"
          ],
          "name": "stdout"
        }
      ]
    },
    {
      "metadata": {
        "id": "yHdZlA6zNU6f",
        "colab_type": "text"
      },
      "cell_type": "markdown",
      "source": [
        "# question-2"
      ]
    },
    {
      "metadata": {
        "id": "K2_w7F1QNTzH",
        "colab_type": "code",
        "colab": {
          "base_uri": "https://localhost:8080/",
          "height": 34
        },
        "outputId": "2c645bbb-b068-4d85-e055-be0820c5543c"
      },
      "cell_type": "code",
      "source": [
        "#ANswer to question 2 probability\n",
        "print(0.3/0.5)"
      ],
      "execution_count": 1,
      "outputs": [
        {
          "output_type": "stream",
          "text": [
            "0.6\n"
          ],
          "name": "stdout"
        }
      ]
    },
    {
      "metadata": {
        "id": "Ofh2bnLCQfUd",
        "colab_type": "text"
      },
      "cell_type": "markdown",
      "source": [
        "# question-3"
      ]
    },
    {
      "metadata": {
        "id": "K8E4YLwZQiwC",
        "colab_type": "code",
        "colab": {
          "base_uri": "https://localhost:8080/",
          "height": 34
        },
        "outputId": "701a4dc1-1201-42b4-c9e5-49ad5b4baf4a"
      },
      "cell_type": "code",
      "source": [
        "#answer to question 3 probability\n",
        "print((1/9)/((1/9)+(5/18)))"
      ],
      "execution_count": 4,
      "outputs": [
        {
          "output_type": "stream",
          "text": [
            "0.2857142857142857\n"
          ],
          "name": "stdout"
        }
      ]
    }
  ]
}