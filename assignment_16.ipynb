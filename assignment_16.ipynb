{
  "nbformat": 4,
  "nbformat_minor": 0,
  "metadata": {
    "colab": {
      "name": "assignment_16.ipynb",
      "version": "0.3.2",
      "provenance": [],
      "include_colab_link": true
    },
    "kernelspec": {
      "name": "python3",
      "display_name": "Python 3"
    }
  },
  "cells": [
    {
      "cell_type": "markdown",
      "metadata": {
        "id": "view-in-github",
        "colab_type": "text"
      },
      "source": [
        "[View in Colaboratory](https://colab.research.google.com/github/himu30/Machine_learning_with_python/blob/master/assignment_16.ipynb)"
      ]
    },
    {
      "metadata": {
        "id": "R5J-qY6QBroy",
        "colab_type": "text"
      },
      "cell_type": "markdown",
      "source": [
        "# Assignment-16  Decision Tree "
      ]
    },
    {
      "metadata": {
        "id": "bK0ogL-Ih45c",
        "colab_type": "text"
      },
      "cell_type": "markdown",
      "source": [
        "**Q-1.) Importing dataset **"
      ]
    },
    {
      "metadata": {
        "id": "qwGQjUs3BmLg",
        "colab_type": "code",
        "colab": {
          "base_uri": "https://localhost:8080/",
          "height": 197
        },
        "outputId": "63f6a063-b91b-4fc7-f67c-ec90dd6d095e"
      },
      "cell_type": "code",
      "source": [
        "#importing libraries\n",
        "import pandas as pd\n",
        "import numpy as np\n",
        "import matplotlib.pyplot as plt\n",
        " \n",
        "data = pd.read_csv('https://archive.ics.uci.edu/ml/machine-learning-databases/balance-scale/balance-scale.data')\n"
      ],
      "execution_count": 2,
      "outputs": [
        {
          "output_type": "execute_result",
          "data": {
            "text/html": [
              "<div>\n",
              "<style scoped>\n",
              "    .dataframe tbody tr th:only-of-type {\n",
              "        vertical-align: middle;\n",
              "    }\n",
              "\n",
              "    .dataframe tbody tr th {\n",
              "        vertical-align: top;\n",
              "    }\n",
              "\n",
              "    .dataframe thead th {\n",
              "        text-align: right;\n",
              "    }\n",
              "</style>\n",
              "<table border=\"1\" class=\"dataframe\">\n",
              "  <thead>\n",
              "    <tr style=\"text-align: right;\">\n",
              "      <th></th>\n",
              "      <th>B</th>\n",
              "      <th>1</th>\n",
              "      <th>1.1</th>\n",
              "      <th>1.2</th>\n",
              "      <th>1.3</th>\n",
              "    </tr>\n",
              "  </thead>\n",
              "  <tbody>\n",
              "    <tr>\n",
              "      <th>0</th>\n",
              "      <td>R</td>\n",
              "      <td>1</td>\n",
              "      <td>1</td>\n",
              "      <td>1</td>\n",
              "      <td>2</td>\n",
              "    </tr>\n",
              "    <tr>\n",
              "      <th>1</th>\n",
              "      <td>R</td>\n",
              "      <td>1</td>\n",
              "      <td>1</td>\n",
              "      <td>1</td>\n",
              "      <td>3</td>\n",
              "    </tr>\n",
              "    <tr>\n",
              "      <th>2</th>\n",
              "      <td>R</td>\n",
              "      <td>1</td>\n",
              "      <td>1</td>\n",
              "      <td>1</td>\n",
              "      <td>4</td>\n",
              "    </tr>\n",
              "    <tr>\n",
              "      <th>3</th>\n",
              "      <td>R</td>\n",
              "      <td>1</td>\n",
              "      <td>1</td>\n",
              "      <td>1</td>\n",
              "      <td>5</td>\n",
              "    </tr>\n",
              "    <tr>\n",
              "      <th>4</th>\n",
              "      <td>R</td>\n",
              "      <td>1</td>\n",
              "      <td>1</td>\n",
              "      <td>2</td>\n",
              "      <td>1</td>\n",
              "    </tr>\n",
              "  </tbody>\n",
              "</table>\n",
              "</div>"
            ],
            "text/plain": [
              "   B  1  1.1  1.2  1.3\n",
              "0  R  1    1    1    2\n",
              "1  R  1    1    1    3\n",
              "2  R  1    1    1    4\n",
              "3  R  1    1    1    5\n",
              "4  R  1    1    2    1"
            ]
          },
          "metadata": {
            "tags": []
          },
          "execution_count": 2
        }
      ]
    },
    {
      "metadata": {
        "id": "rEUn1To1iJyO",
        "colab_type": "text"
      },
      "cell_type": "markdown",
      "source": [
        "**head and shape of dataset**"
      ]
    },
    {
      "metadata": {
        "id": "2H02VyAnCCxw",
        "colab_type": "code",
        "colab": {
          "base_uri": "https://localhost:8080/",
          "height": 141
        },
        "outputId": "d174bab1-4c4e-40e3-dbf1-9071a9f122f4"
      },
      "cell_type": "code",
      "source": [
        "\n",
        "#head of the dataset\n",
        "print(data.head())\n",
        "\n",
        "\n",
        "#shape of dataset\n",
        "data.shape"
      ],
      "execution_count": 5,
      "outputs": [
        {
          "output_type": "stream",
          "text": [
            "   B  1  1.1  1.2  1.3\n",
            "0  R  1    1    1    2\n",
            "1  R  1    1    1    3\n",
            "2  R  1    1    1    4\n",
            "3  R  1    1    1    5\n",
            "4  R  1    1    2    1\n"
          ],
          "name": "stdout"
        },
        {
          "output_type": "execute_result",
          "data": {
            "text/plain": [
              "(624, 5)"
            ]
          },
          "metadata": {
            "tags": []
          },
          "execution_count": 5
        }
      ]
    },
    {
      "metadata": {
        "id": "YRle3XAMiQUb",
        "colab_type": "text"
      },
      "cell_type": "markdown",
      "source": [
        "**Q-2.)** **Slicing of Dataset**"
      ]
    },
    {
      "metadata": {
        "id": "Ln3C987SEqGj",
        "colab_type": "code",
        "colab": {
          "base_uri": "https://localhost:8080/",
          "height": 2256
        },
        "outputId": "44d06a93-a884-4591-de04-c7641e5da951"
      },
      "cell_type": "code",
      "source": [
        "#y for target\n",
        "y = data['B']\n",
        "print(y)\n",
        "\n",
        "#x for feature selection\n",
        "x = data[['1','1.1' ,'1.2','1.3']]\n",
        "print(x)"
      ],
      "execution_count": 19,
      "outputs": [
        {
          "output_type": "stream",
          "text": [
            "0      R\n",
            "1      R\n",
            "2      R\n",
            "3      R\n",
            "4      R\n",
            "5      R\n",
            "6      R\n",
            "7      R\n",
            "8      R\n",
            "9      R\n",
            "10     R\n",
            "11     R\n",
            "12     R\n",
            "13     R\n",
            "14     R\n",
            "15     R\n",
            "16     R\n",
            "17     R\n",
            "18     R\n",
            "19     R\n",
            "20     R\n",
            "21     R\n",
            "22     R\n",
            "23     R\n",
            "24     L\n",
            "25     B\n",
            "26     R\n",
            "27     R\n",
            "28     R\n",
            "29     B\n",
            "      ..\n",
            "594    L\n",
            "595    L\n",
            "596    L\n",
            "597    B\n",
            "598    R\n",
            "599    L\n",
            "600    L\n",
            "601    L\n",
            "602    L\n",
            "603    L\n",
            "604    L\n",
            "605    L\n",
            "606    L\n",
            "607    L\n",
            "608    L\n",
            "609    L\n",
            "610    L\n",
            "611    L\n",
            "612    L\n",
            "613    L\n",
            "614    L\n",
            "615    L\n",
            "616    L\n",
            "617    L\n",
            "618    L\n",
            "619    L\n",
            "620    L\n",
            "621    L\n",
            "622    L\n",
            "623    B\n",
            "Name: B, Length: 624, dtype: object\n",
            "     1  1.1  1.2  1.3\n",
            "0    1    1    1    2\n",
            "1    1    1    1    3\n",
            "2    1    1    1    4\n",
            "3    1    1    1    5\n",
            "4    1    1    2    1\n",
            "5    1    1    2    2\n",
            "6    1    1    2    3\n",
            "7    1    1    2    4\n",
            "8    1    1    2    5\n",
            "9    1    1    3    1\n",
            "10   1    1    3    2\n",
            "11   1    1    3    3\n",
            "12   1    1    3    4\n",
            "13   1    1    3    5\n",
            "14   1    1    4    1\n",
            "15   1    1    4    2\n",
            "16   1    1    4    3\n",
            "17   1    1    4    4\n",
            "18   1    1    4    5\n",
            "19   1    1    5    1\n",
            "20   1    1    5    2\n",
            "21   1    1    5    3\n",
            "22   1    1    5    4\n",
            "23   1    1    5    5\n",
            "24   1    2    1    1\n",
            "25   1    2    1    2\n",
            "26   1    2    1    3\n",
            "27   1    2    1    4\n",
            "28   1    2    1    5\n",
            "29   1    2    2    1\n",
            "..  ..  ...  ...  ...\n",
            "594  5    4    5    1\n",
            "595  5    4    5    2\n",
            "596  5    4    5    3\n",
            "597  5    4    5    4\n",
            "598  5    4    5    5\n",
            "599  5    5    1    1\n",
            "600  5    5    1    2\n",
            "601  5    5    1    3\n",
            "602  5    5    1    4\n",
            "603  5    5    1    5\n",
            "604  5    5    2    1\n",
            "605  5    5    2    2\n",
            "606  5    5    2    3\n",
            "607  5    5    2    4\n",
            "608  5    5    2    5\n",
            "609  5    5    3    1\n",
            "610  5    5    3    2\n",
            "611  5    5    3    3\n",
            "612  5    5    3    4\n",
            "613  5    5    3    5\n",
            "614  5    5    4    1\n",
            "615  5    5    4    2\n",
            "616  5    5    4    3\n",
            "617  5    5    4    4\n",
            "618  5    5    4    5\n",
            "619  5    5    5    1\n",
            "620  5    5    5    2\n",
            "621  5    5    5    3\n",
            "622  5    5    5    4\n",
            "623  5    5    5    5\n",
            "\n",
            "[624 rows x 4 columns]\n"
          ],
          "name": "stdout"
        }
      ]
    },
    {
      "metadata": {
        "id": "J9mwyR5Ii-3e",
        "colab_type": "text"
      },
      "cell_type": "markdown",
      "source": [
        "**Q-3.) Spliting of dataset**"
      ]
    },
    {
      "metadata": {
        "id": "S-3okGqjHlri",
        "colab_type": "code",
        "colab": {}
      },
      "cell_type": "code",
      "source": [
        "#splitting of dataset into training and testing\n",
        "from sklearn.model_selection import train_test_split\n",
        "\n",
        "x_train , x_test , y_train, y_test =train_test_split(x, y , test_size = 0.4 , random_state =32)"
      ],
      "execution_count": 0,
      "outputs": []
    },
    {
      "metadata": {
        "id": "_tQBgF0Ug64F",
        "colab_type": "text"
      },
      "cell_type": "markdown",
      "source": [
        "**Q-4.) a) GINI**"
      ]
    },
    {
      "metadata": {
        "id": "V_isjfojkcwV",
        "colab_type": "text"
      },
      "cell_type": "markdown",
      "source": [
        "**Decision tree**"
      ]
    },
    {
      "metadata": {
        "id": "_ZxBW70FTXM8",
        "colab_type": "code",
        "colab": {}
      },
      "cell_type": "code",
      "source": [
        "#Use of decision tree\n",
        "from sklearn import tree\n",
        "dt_gini = tree.DecisionTreeClassifier(criterion = 'gini')"
      ],
      "execution_count": 0,
      "outputs": []
    },
    {
      "metadata": {
        "id": "t8Ax1kxDUqMa",
        "colab_type": "code",
        "colab": {
          "base_uri": "https://localhost:8080/",
          "height": 123
        },
        "outputId": "e1a2b03a-32ca-4d2c-8231-208dda936de5"
      },
      "cell_type": "code",
      "source": [
        "#fit for decision tree model\n",
        "dt_gini.fit(x_train , y_train)"
      ],
      "execution_count": 39,
      "outputs": [
        {
          "output_type": "execute_result",
          "data": {
            "text/plain": [
              "DecisionTreeClassifier(class_weight=None, criterion='gini', max_depth=None,\n",
              "            max_features=None, max_leaf_nodes=None,\n",
              "            min_impurity_decrease=0.0, min_impurity_split=None,\n",
              "            min_samples_leaf=1, min_samples_split=2,\n",
              "            min_weight_fraction_leaf=0.0, presort=False, random_state=None,\n",
              "            splitter='best')"
            ]
          },
          "metadata": {
            "tags": []
          },
          "execution_count": 39
        }
      ]
    },
    {
      "metadata": {
        "id": "rHcjMeHRU2_O",
        "colab_type": "code",
        "colab": {}
      },
      "cell_type": "code",
      "source": [
        "#prediction for DT\n",
        "gini_pred = dt_gini.predict(x_test)"
      ],
      "execution_count": 0,
      "outputs": []
    },
    {
      "metadata": {
        "id": "eAksqq6fVwom",
        "colab_type": "code",
        "colab": {
          "base_uri": "https://localhost:8080/",
          "height": 34
        },
        "outputId": "bd07f000-9ba0-4085-8493-b41457c83ff3"
      },
      "cell_type": "code",
      "source": [
        "#accuracy score\n",
        "from sklearn.metrics import accuracy_score\n",
        "accuracy_score( y_test,gini_pred)"
      ],
      "execution_count": 40,
      "outputs": [
        {
          "output_type": "execute_result",
          "data": {
            "text/plain": [
              "1.0"
            ]
          },
          "metadata": {
            "tags": []
          },
          "execution_count": 40
        }
      ]
    },
    {
      "metadata": {
        "id": "vPqDpf1rhMr7",
        "colab_type": "text"
      },
      "cell_type": "markdown",
      "source": [
        "**Q-4.) b.)**"
      ]
    },
    {
      "metadata": {
        "id": "BEWGDnf4ZAiR",
        "colab_type": "code",
        "colab": {}
      },
      "cell_type": "code",
      "source": [
        "#use of decision tree using entropy criterion\n",
        "from sklearn import tree\n",
        "dt_en = tree.DecisionTreeClassifier(criterion = 'entropy')"
      ],
      "execution_count": 0,
      "outputs": []
    },
    {
      "metadata": {
        "id": "Hpmss249a8pd",
        "colab_type": "code",
        "colab": {
          "base_uri": "https://localhost:8080/",
          "height": 123
        },
        "outputId": "ba19796f-f3ac-4b30-8f7b-1722cb63461c"
      },
      "cell_type": "code",
      "source": [
        "#fit for decision tree model\n",
        "dt_en.fit(x_train , y_train)"
      ],
      "execution_count": 41,
      "outputs": [
        {
          "output_type": "execute_result",
          "data": {
            "text/plain": [
              "DecisionTreeClassifier(class_weight=None, criterion='entropy', max_depth=None,\n",
              "            max_features=None, max_leaf_nodes=None,\n",
              "            min_impurity_decrease=0.0, min_impurity_split=None,\n",
              "            min_samples_leaf=1, min_samples_split=2,\n",
              "            min_weight_fraction_leaf=0.0, presort=False, random_state=None,\n",
              "            splitter='best')"
            ]
          },
          "metadata": {
            "tags": []
          },
          "execution_count": 41
        }
      ]
    },
    {
      "metadata": {
        "id": "W9LRUbc4bCFv",
        "colab_type": "code",
        "colab": {}
      },
      "cell_type": "code",
      "source": [
        "#prediction for DT\n",
        "en_pred = dt_en.predict(x_test)"
      ],
      "execution_count": 0,
      "outputs": []
    },
    {
      "metadata": {
        "id": "zaKqFWFfcRpF",
        "colab_type": "code",
        "colab": {
          "base_uri": "https://localhost:8080/",
          "height": 34
        },
        "outputId": "ed2141f4-c671-4925-ff60-101d7ea2ea1c"
      },
      "cell_type": "code",
      "source": [
        "#accuracy score\n",
        "from sklearn.metrics import accuracy_score\n",
        "accuracy_score( y_test,en_pred)"
      ],
      "execution_count": 43,
      "outputs": [
        {
          "output_type": "execute_result",
          "data": {
            "text/plain": [
              "0.796"
            ]
          },
          "metadata": {
            "tags": []
          },
          "execution_count": 43
        }
      ]
    },
    {
      "metadata": {
        "id": "6P1ISwjZcuPU",
        "colab_type": "text"
      },
      "cell_type": "markdown",
      "source": [
        "**Random Forest**"
      ]
    },
    {
      "metadata": {
        "id": "yAb-mq3UgUSj",
        "colab_type": "text"
      },
      "cell_type": "markdown",
      "source": [
        "**Q-5.)**  **a.) GINI**"
      ]
    },
    {
      "metadata": {
        "id": "40HUzbrwcbo5",
        "colab_type": "code",
        "colab": {
          "base_uri": "https://localhost:8080/",
          "height": 141
        },
        "outputId": "133c73df-6529-4849-886f-e24b4c1a61ff"
      },
      "cell_type": "code",
      "source": [
        "#Random forest using gini index\n",
        "from sklearn.ensemble import RandomForestClassifier\n",
        "rf_gini = RandomForestClassifier(criterion = 'gini')\n",
        "\n",
        "#fit for random forest\n",
        "rf_gini.fit(x_train,y_train)"
      ],
      "execution_count": 45,
      "outputs": [
        {
          "output_type": "execute_result",
          "data": {
            "text/plain": [
              "RandomForestClassifier(bootstrap=True, class_weight=None, criterion='gini',\n",
              "            max_depth=None, max_features='auto', max_leaf_nodes=None,\n",
              "            min_impurity_decrease=0.0, min_impurity_split=None,\n",
              "            min_samples_leaf=1, min_samples_split=2,\n",
              "            min_weight_fraction_leaf=0.0, n_estimators=10, n_jobs=1,\n",
              "            oob_score=False, random_state=None, verbose=0,\n",
              "            warm_start=False)"
            ]
          },
          "metadata": {
            "tags": []
          },
          "execution_count": 45
        }
      ]
    },
    {
      "metadata": {
        "id": "YuqH-Y5Qdhqg",
        "colab_type": "code",
        "colab": {}
      },
      "cell_type": "code",
      "source": [
        "#prediction for random forest , gini index\n",
        "rf_gini_pred = rf_gini.predict(x_test)"
      ],
      "execution_count": 0,
      "outputs": []
    },
    {
      "metadata": {
        "id": "9mOtEbuDexsi",
        "colab_type": "code",
        "colab": {
          "base_uri": "https://localhost:8080/",
          "height": 34
        },
        "outputId": "90561a35-df68-4a69-8393-28393d549469"
      },
      "cell_type": "code",
      "source": [
        "#accuracy score\n",
        "from sklearn.metrics import accuracy_score\n",
        "accuracy_score(y_test, rf_gini_pred)"
      ],
      "execution_count": 47,
      "outputs": [
        {
          "output_type": "execute_result",
          "data": {
            "text/plain": [
              "0.824"
            ]
          },
          "metadata": {
            "tags": []
          },
          "execution_count": 47
        }
      ]
    },
    {
      "metadata": {
        "id": "5n462e7UgrGk",
        "colab_type": "text"
      },
      "cell_type": "markdown",
      "source": [
        "**Q-5.) b.) Entropy**"
      ]
    },
    {
      "metadata": {
        "id": "1YGo9kyufQ_V",
        "colab_type": "code",
        "colab": {
          "base_uri": "https://localhost:8080/",
          "height": 141
        },
        "outputId": "aaf3b541-9f99-416e-e77d-3e3322e306c5"
      },
      "cell_type": "code",
      "source": [
        "#random forest using entropy\n",
        "from sklearn.ensemble import RandomForestClassifier\n",
        "rf_ent = RandomForestClassifier(criterion = 'entropy')\n",
        "\n",
        "#fit for random forest\n",
        "rf_ent.fit(x_train,y_train)"
      ],
      "execution_count": 49,
      "outputs": [
        {
          "output_type": "execute_result",
          "data": {
            "text/plain": [
              "RandomForestClassifier(bootstrap=True, class_weight=None, criterion='entropy',\n",
              "            max_depth=None, max_features='auto', max_leaf_nodes=None,\n",
              "            min_impurity_decrease=0.0, min_impurity_split=None,\n",
              "            min_samples_leaf=1, min_samples_split=2,\n",
              "            min_weight_fraction_leaf=0.0, n_estimators=10, n_jobs=1,\n",
              "            oob_score=False, random_state=None, verbose=0,\n",
              "            warm_start=False)"
            ]
          },
          "metadata": {
            "tags": []
          },
          "execution_count": 49
        }
      ]
    },
    {
      "metadata": {
        "id": "N7CjzdFVfn9V",
        "colab_type": "code",
        "colab": {}
      },
      "cell_type": "code",
      "source": [
        "#prediction for random forest , entropy index\n",
        "rf_ent_pred = rf_ent.predict(x_test)"
      ],
      "execution_count": 0,
      "outputs": []
    },
    {
      "metadata": {
        "id": "0LfMpDabgCgD",
        "colab_type": "code",
        "colab": {
          "base_uri": "https://localhost:8080/",
          "height": 34
        },
        "outputId": "16ffef25-fddd-4696-b56c-ba4dde1bcf65"
      },
      "cell_type": "code",
      "source": [
        "#accuracy score\n",
        "from sklearn.metrics import accuracy_score\n",
        "accuracy_score(y_test, rf_ent_pred)"
      ],
      "execution_count": 51,
      "outputs": [
        {
          "output_type": "execute_result",
          "data": {
            "text/plain": [
              "0.816"
            ]
          },
          "metadata": {
            "tags": []
          },
          "execution_count": 51
        }
      ]
    },
    {
      "metadata": {
        "id": "eNJcBVN2gJgk",
        "colab_type": "code",
        "colab": {}
      },
      "cell_type": "code",
      "source": [
        ""
      ],
      "execution_count": 0,
      "outputs": []
    }
  ]
}