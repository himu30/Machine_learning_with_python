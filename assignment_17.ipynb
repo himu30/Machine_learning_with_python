{
  "nbformat": 4,
  "nbformat_minor": 0,
  "metadata": {
    "colab": {
      "name": "assignment_17.ipynb",
      "version": "0.3.2",
      "provenance": [],
      "include_colab_link": true
    },
    "kernelspec": {
      "name": "python3",
      "display_name": "Python 3"
    }
  },
  "cells": [
    {
      "cell_type": "markdown",
      "metadata": {
        "id": "view-in-github",
        "colab_type": "text"
      },
      "source": [
        "[View in Colaboratory](https://colab.research.google.com/github/himu30/Machine_learning_with_python/blob/master/assignment_17.ipynb)"
      ]
    },
    {
      "metadata": {
        "id": "CHHHMCOERqLJ",
        "colab_type": "text"
      },
      "cell_type": "markdown",
      "source": [
        "# Assignment_17 ->  PCA (principal of component analysis)"
      ]
    },
    {
      "metadata": {
        "id": "ILn__NX7RmX6",
        "colab_type": "code",
        "colab": {}
      },
      "cell_type": "code",
      "source": [
        "#importing libraries\n",
        "import pandas as pd\n",
        "import numpy as np\n",
        "import matplotlib.pyplot as plt"
      ],
      "execution_count": 0,
      "outputs": []
    },
    {
      "metadata": {
        "id": "RVIyprfJVk2V",
        "colab_type": "text"
      },
      "cell_type": "markdown",
      "source": [
        "**Q-1.)**"
      ]
    },
    {
      "metadata": {
        "id": "Tw9FKKhhFMIq",
        "colab_type": "text"
      },
      "cell_type": "markdown",
      "source": [
        "***Importing MNIST dataset from sklearn***"
      ]
    },
    {
      "metadata": {
        "id": "KyV7BX4jR04P",
        "colab_type": "code",
        "colab": {
          "base_uri": "https://localhost:8080/",
          "height": 141
        },
        "outputId": "47617a3c-4a89-4b3c-f0c0-6bbbbe55e634"
      },
      "cell_type": "code",
      "source": [
        "#importing mnist dataset from sklearn\n",
        "from sklearn.datasets import load_digits \n",
        "digit = load_digits()\n",
        "digit.data"
      ],
      "execution_count": 4,
      "outputs": [
        {
          "output_type": "execute_result",
          "data": {
            "text/plain": [
              "array([[ 0.,  0.,  5., ...,  0.,  0.,  0.],\n",
              "       [ 0.,  0.,  0., ..., 10.,  0.,  0.],\n",
              "       [ 0.,  0.,  0., ..., 16.,  9.,  0.],\n",
              "       ...,\n",
              "       [ 0.,  0.,  1., ...,  6.,  0.,  0.],\n",
              "       [ 0.,  0.,  2., ..., 12.,  0.,  0.],\n",
              "       [ 0.,  0., 10., ..., 12.,  1.,  0.]])"
            ]
          },
          "metadata": {
            "tags": []
          },
          "execution_count": 4
        }
      ]
    },
    {
      "metadata": {
        "id": "FpSTfUkbFchV",
        "colab_type": "text"
      },
      "cell_type": "markdown",
      "source": [
        "***Saving data features and targets into variables***"
      ]
    },
    {
      "metadata": {
        "id": "8lfE-mb9U0NR",
        "colab_type": "code",
        "colab": {
          "base_uri": "https://localhost:8080/",
          "height": 158
        },
        "outputId": "60c39272-946f-4c53-8522-defac951b7f0"
      },
      "cell_type": "code",
      "source": [
        "# data is stored in x whereas target is in y variable\n",
        "x = digit.data\n",
        "print(x)\n",
        "y = digit.target\n",
        "print(y)"
      ],
      "execution_count": 16,
      "outputs": [
        {
          "output_type": "stream",
          "text": [
            "[[ 0.  0.  5. ...  0.  0.  0.]\n",
            " [ 0.  0.  0. ... 10.  0.  0.]\n",
            " [ 0.  0.  0. ... 16.  9.  0.]\n",
            " ...\n",
            " [ 0.  0.  1. ...  6.  0.  0.]\n",
            " [ 0.  0.  2. ... 12.  0.  0.]\n",
            " [ 0.  0. 10. ... 12.  1.  0.]]\n",
            "[0 1 2 ... 8 9 8]\n"
          ],
          "name": "stdout"
        }
      ]
    },
    {
      "metadata": {
        "id": "wTqr-WRSFnuJ",
        "colab_type": "text"
      },
      "cell_type": "markdown",
      "source": [
        "**Q-2.) Feature scaling**"
      ]
    },
    {
      "metadata": {
        "id": "jRE_Q-pNWXHk",
        "colab_type": "code",
        "colab": {
          "base_uri": "https://localhost:8080/",
          "height": 247
        },
        "outputId": "502edb99-40c2-4453-bece-5c9168077a0c"
      },
      "cell_type": "code",
      "source": [
        "#feature scaling using StandardScaler\n",
        "from sklearn.preprocessing import StandardScaler\n",
        "x_std = StandardScaler().fit_transform(x) \n",
        "x_std\n"
      ],
      "execution_count": 39,
      "outputs": [
        {
          "output_type": "execute_result",
          "data": {
            "text/plain": [
              "array([[ 0.        , -0.33501649, -0.04308102, ..., -1.14664746,\n",
              "        -0.5056698 , -0.19600752],\n",
              "       [ 0.        , -0.33501649, -1.09493684, ...,  0.54856067,\n",
              "        -0.5056698 , -0.19600752],\n",
              "       [ 0.        , -0.33501649, -1.09493684, ...,  1.56568555,\n",
              "         1.6951369 , -0.19600752],\n",
              "       ...,\n",
              "       [ 0.        , -0.33501649, -0.88456568, ..., -0.12952258,\n",
              "        -0.5056698 , -0.19600752],\n",
              "       [ 0.        , -0.33501649, -0.67419451, ...,  0.8876023 ,\n",
              "        -0.5056698 , -0.19600752],\n",
              "       [ 0.        , -0.33501649,  1.00877481, ...,  0.8876023 ,\n",
              "        -0.26113572, -0.19600752]])"
            ]
          },
          "metadata": {
            "tags": []
          },
          "execution_count": 39
        }
      ]
    },
    {
      "metadata": {
        "id": "Qp5xxzHYFzrR",
        "colab_type": "text"
      },
      "cell_type": "markdown",
      "source": [
        "**Q-3.)** ***Spliting dataset into training and testing***"
      ]
    },
    {
      "metadata": {
        "id": "SAmEc4UehxTU",
        "colab_type": "code",
        "colab": {}
      },
      "cell_type": "code",
      "source": [
        "#spliting data into training and testing set\n",
        "from sklearn.model_selection import train_test_split\n",
        "x_train , x_test , y_train, y_test = train_test_split(x_std , y ,test_size = 0.4, random_state = 20) \n"
      ],
      "execution_count": 0,
      "outputs": []
    },
    {
      "metadata": {
        "id": "aNW_oTWNGB1t",
        "colab_type": "text"
      },
      "cell_type": "markdown",
      "source": [
        "**Q-4.)** ***Performing PCA***"
      ]
    },
    {
      "metadata": {
        "id": "Su7EFU5Gwdzj",
        "colab_type": "code",
        "colab": {}
      },
      "cell_type": "code",
      "source": [
        "from sklearn.decomposition import PCA\n",
        "pca = PCA(n_components = 0.96 )\n",
        "\n",
        "#fiting the training part in \n",
        "x_train = pca.fit_transform(x_train)\n",
        "\n",
        "x_test = pca.transform(x_test)\n"
      ],
      "execution_count": 0,
      "outputs": []
    },
    {
      "metadata": {
        "id": "52XDQDgNGXWb",
        "colab_type": "text"
      },
      "cell_type": "markdown",
      "source": [
        "**Q-5.)** ***Classification through Logistic Regression***"
      ]
    },
    {
      "metadata": {
        "id": "MIhdO1BtzcqE",
        "colab_type": "code",
        "colab": {
          "base_uri": "https://localhost:8080/",
          "height": 87
        },
        "outputId": "dd1f3c87-4340-466c-c265-4279932fa986"
      },
      "cell_type": "code",
      "source": [
        "#Classification usng logistic regression model\n",
        "from sklearn.linear_model import LogisticRegression\n",
        "log = LogisticRegression()\n",
        "\n",
        "#fiting the training part into model\n",
        "log.fit(x_train , y_train)"
      ],
      "execution_count": 62,
      "outputs": [
        {
          "output_type": "execute_result",
          "data": {
            "text/plain": [
              "LogisticRegression(C=1.0, class_weight=None, dual=False, fit_intercept=True,\n",
              "          intercept_scaling=1, max_iter=100, multi_class='ovr', n_jobs=1,\n",
              "          penalty='l2', random_state=None, solver='liblinear', tol=0.0001,\n",
              "          verbose=0, warm_start=False)"
            ]
          },
          "metadata": {
            "tags": []
          },
          "execution_count": 62
        }
      ]
    },
    {
      "metadata": {
        "id": "GE48OacwBegm",
        "colab_type": "code",
        "colab": {}
      },
      "cell_type": "code",
      "source": [
        "#prediction over model\n",
        "prediction = log.predict(x_test)"
      ],
      "execution_count": 0,
      "outputs": []
    },
    {
      "metadata": {
        "id": "mRDr2T_rGlLo",
        "colab_type": "text"
      },
      "cell_type": "markdown",
      "source": [
        "**Q-6.) **"
      ]
    },
    {
      "metadata": {
        "id": "E9Ow9JXIGysj",
        "colab_type": "text"
      },
      "cell_type": "markdown",
      "source": [
        "**a.) Accuracy Score**"
      ]
    },
    {
      "metadata": {
        "id": "YlsFYo-BB6kP",
        "colab_type": "code",
        "colab": {
          "base_uri": "https://localhost:8080/",
          "height": 34
        },
        "outputId": "bcfeb157-df45-4fb9-9562-76cfcfd872d7"
      },
      "cell_type": "code",
      "source": [
        "#accuracy score\n",
        "from sklearn.metrics import accuracy_score\n",
        "accuracy_score(y_test , prediction)"
      ],
      "execution_count": 64,
      "outputs": [
        {
          "output_type": "execute_result",
          "data": {
            "text/plain": [
              "0.9401947148817803"
            ]
          },
          "metadata": {
            "tags": []
          },
          "execution_count": 64
        }
      ]
    },
    {
      "metadata": {
        "id": "5RD0elAdG8r8",
        "colab_type": "text"
      },
      "cell_type": "markdown",
      "source": [
        "**b.) Confusion matrix**"
      ]
    },
    {
      "metadata": {
        "id": "hN2mD8hjCusT",
        "colab_type": "code",
        "colab": {
          "base_uri": "https://localhost:8080/",
          "height": 194
        },
        "outputId": "8e3fd88c-50aa-49b6-e2c4-0ca3e6b5a274"
      },
      "cell_type": "code",
      "source": [
        "# Confusion Matrix\n",
        "from sklearn.metrics import confusion_matrix\n",
        "confusion_matrix(y_test , prediction)"
      ],
      "execution_count": 65,
      "outputs": [
        {
          "output_type": "execute_result",
          "data": {
            "text/plain": [
              "array([[62,  0,  1,  0,  0,  0,  0,  0,  0,  0],\n",
              "       [ 0, 72,  1,  1,  0,  0,  0,  0,  0,  1],\n",
              "       [ 0,  0, 63,  0,  0,  0,  0,  0,  0,  0],\n",
              "       [ 0,  0,  0, 71,  0,  3,  0,  1,  4,  1],\n",
              "       [ 0,  0,  0,  0, 73,  0,  0,  1,  1,  0],\n",
              "       [ 1,  0,  0,  0,  0, 69,  0,  0,  0,  1],\n",
              "       [ 0,  2,  0,  0,  2,  0, 67,  0,  0,  0],\n",
              "       [ 0,  0,  0,  1,  0,  0,  0, 78,  0,  1],\n",
              "       [ 0,  3,  0,  0,  0,  2,  2,  0, 56,  1],\n",
              "       [ 1,  1,  0,  0,  0,  3,  0,  1,  6, 65]])"
            ]
          },
          "metadata": {
            "tags": []
          },
          "execution_count": 65
        }
      ]
    },
    {
      "metadata": {
        "id": "8cO5qMUaHAYG",
        "colab_type": "text"
      },
      "cell_type": "markdown",
      "source": [
        "**c.) Classification Report**"
      ]
    },
    {
      "metadata": {
        "id": "5ZlHiq-yEMLm",
        "colab_type": "code",
        "colab": {
          "base_uri": "https://localhost:8080/",
          "height": 54
        },
        "outputId": "8aa6086c-ee67-4d91-c4c5-dbe3879ff32d"
      },
      "cell_type": "code",
      "source": [
        "# Classification report\n",
        "from sklearn.metrics import classification_report\n",
        "classification_report(y_test , prediction,labels = None, digits = 3)"
      ],
      "execution_count": 66,
      "outputs": [
        {
          "output_type": "execute_result",
          "data": {
            "text/plain": [
              "'             precision    recall  f1-score   support\\n\\n          0      0.969     0.984     0.976        63\\n          1      0.923     0.960     0.941        75\\n          2      0.969     1.000     0.984        63\\n          3      0.973     0.887     0.928        80\\n          4      0.973     0.973     0.973        75\\n          5      0.896     0.972     0.932        71\\n          6      0.971     0.944     0.957        71\\n          7      0.963     0.975     0.969        80\\n          8      0.836     0.875     0.855        64\\n          9      0.929     0.844     0.884        77\\n\\navg / total      0.941     0.940     0.940       719\\n'"
            ]
          },
          "metadata": {
            "tags": []
          },
          "execution_count": 66
        }
      ]
    },
    {
      "metadata": {
        "id": "ERJB2__ME68f",
        "colab_type": "code",
        "colab": {}
      },
      "cell_type": "code",
      "source": [
        ""
      ],
      "execution_count": 0,
      "outputs": []
    }
  ]
}