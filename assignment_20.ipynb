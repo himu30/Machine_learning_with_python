{
  "nbformat": 4,
  "nbformat_minor": 0,
  "metadata": {
    "colab": {
      "name": "assignment_20.ipynb",
      "version": "0.3.2",
      "provenance": [],
      "include_colab_link": true
    },
    "kernelspec": {
      "name": "python3",
      "display_name": "Python 3"
    }
  },
  "cells": [
    {
      "cell_type": "markdown",
      "metadata": {
        "id": "view-in-github",
        "colab_type": "text"
      },
      "source": [
        "[View in Colaboratory](https://colab.research.google.com/github/himu30/Machine_learning_with_python/blob/master/assignment_20.ipynb)"
      ]
    },
    {
      "metadata": {
        "id": "yeDlBEOh3Gse",
        "colab_type": "text"
      },
      "cell_type": "markdown",
      "source": [
        "# Assignment->20   Intro to Deep Learning"
      ]
    },
    {
      "metadata": {
        "id": "FmiT995b3RUc",
        "colab_type": "text"
      },
      "cell_type": "markdown",
      "source": [
        "**Q-1.)**"
      ]
    },
    {
      "metadata": {
        "id": "lUi8g1Zo36M0",
        "colab_type": "text"
      },
      "cell_type": "markdown",
      "source": [
        "In the question we are given with input  as **a** , **b** and **c** , whereas the initial nodes are provided as **u , v ** and **w** with calculated values **(a.b) , (a.c)** and **(b.c)** respectively.\n",
        "\n",
        "And **F** is the activation function."
      ]
    },
    {
      "metadata": {
        "id": "_FY3QKpd96NC",
        "colab_type": "text"
      },
      "cell_type": "markdown",
      "source": [
        "**F** is calculated here as **u+v-w** "
      ]
    },
    {
      "metadata": {
        "id": "jzN2_2nV25Js",
        "colab_type": "code",
        "colab": {
          "base_uri": "https://localhost:8080/",
          "height": 34
        },
        "outputId": "d76b7b3d-3bf1-44b0-cb9d-130a6e8ed211"
      },
      "cell_type": "code",
      "source": [
        "#The solution here is taken out from the expression (ab) + (ac) - (b+c) which is an informal for u+v-w\n",
        "print('(b+c)*(a-1)')"
      ],
      "execution_count": 24,
      "outputs": [
        {
          "output_type": "stream",
          "text": [
            "(b+c)*(a-1)\n"
          ],
          "name": "stdout"
        }
      ]
    },
    {
      "metadata": {
        "id": "ef5k2RUw-a72",
        "colab_type": "text"
      },
      "cell_type": "markdown",
      "source": [
        "**Q-2.)**"
      ]
    },
    {
      "metadata": {
        "id": "I2IxUdwu_Slk",
        "colab_type": "text"
      },
      "cell_type": "markdown",
      "source": [
        "**Given  :**\n",
        "\n",
        "**Weights as -\n",
        "         weight_1 =  2.7\n",
        "         weight_2 =  -8.6\n",
        "         weight_3 =  0.002**\n",
        "\n",
        "**Inputs as -\n",
        "        b1 = -0.06\n",
        "        b2 = -2.5\n",
        "        b3 = 1.4 **"
      ]
    },
    {
      "metadata": {
        "id": "4tpmMb8W3NDk",
        "colab_type": "code",
        "colab": {}
      },
      "cell_type": "code",
      "source": [
        "weight_1 =  2.7\n",
        "weight_2 =  -8.6\n",
        "weight_3 =  0.002"
      ],
      "execution_count": 0,
      "outputs": []
    },
    {
      "metadata": {
        "id": "6KRcI_8z-gRt",
        "colab_type": "code",
        "colab": {}
      },
      "cell_type": "code",
      "source": [
        "b1 = -0.06\n",
        "b2 = -2.5\n",
        "b3 = 1.4"
      ],
      "execution_count": 0,
      "outputs": []
    },
    {
      "metadata": {
        "id": "iSuGS77dAcxp",
        "colab_type": "code",
        "colab": {
          "base_uri": "https://localhost:8080/",
          "height": 34
        },
        "outputId": "765a2ca5-d401-42fc-b6c4-955309ab4659"
      },
      "cell_type": "code",
      "source": [
        "x = (weight_1 * b1) + (weight_2 * b2) + (weight_3 * b3)\n",
        "print(x)"
      ],
      "execution_count": 27,
      "outputs": [
        {
          "output_type": "stream",
          "text": [
            "21.3408\n"
          ],
          "name": "stdout"
        }
      ]
    },
    {
      "metadata": {
        "id": "1WmcJb10A80i",
        "colab_type": "text"
      },
      "cell_type": "markdown",
      "source": [
        "**Calculation of Activation Function**"
      ]
    },
    {
      "metadata": {
        "id": "koKqpxCNBA5Q",
        "colab_type": "code",
        "colab": {
          "base_uri": "https://localhost:8080/",
          "height": 34
        },
        "outputId": "04802c6d-143a-4576-d380-bfc6bf4b8036"
      },
      "cell_type": "code",
      "source": [
        "import math\n",
        "e = math.exp(-x)\n",
        "\n",
        "print(e)"
      ],
      "execution_count": 28,
      "outputs": [
        {
          "output_type": "stream",
          "text": [
            "5.392725576548147e-10\n"
          ],
          "name": "stdout"
        }
      ]
    },
    {
      "metadata": {
        "id": "SXGKWIdIAyrT",
        "colab_type": "code",
        "colab": {
          "base_uri": "https://localhost:8080/",
          "height": 34
        },
        "outputId": "f4055f33-c18b-4aea-8e45-f462967b9b0b"
      },
      "cell_type": "code",
      "source": [
        "f = 1/(1+e)\n",
        "print(f)"
      ],
      "execution_count": 29,
      "outputs": [
        {
          "output_type": "stream",
          "text": [
            "0.9999999994607274\n"
          ],
          "name": "stdout"
        }
      ]
    },
    {
      "metadata": {
        "id": "w6z1HxIoC1ZM",
        "colab_type": "text"
      },
      "cell_type": "markdown",
      "source": [
        "**If bias of -1.1 is added then**"
      ]
    },
    {
      "metadata": {
        "id": "_KXehSvABY3o",
        "colab_type": "code",
        "colab": {
          "base_uri": "https://localhost:8080/",
          "height": 34
        },
        "outputId": "47bd07ee-67b5-434f-e2d3-4306d6fb870b"
      },
      "cell_type": "code",
      "source": [
        "bias = -1.1\n",
        "x_b = (weight_1 * b1) + (weight_2 * b2) + (weight_3 * b3) + bias\n",
        "print(x_b)"
      ],
      "execution_count": 30,
      "outputs": [
        {
          "output_type": "stream",
          "text": [
            "20.2408\n"
          ],
          "name": "stdout"
        }
      ]
    },
    {
      "metadata": {
        "id": "n1lLL3HPDZzk",
        "colab_type": "code",
        "colab": {}
      },
      "cell_type": "code",
      "source": [
        "import math\n",
        "ex = math.exp(-x_b)"
      ],
      "execution_count": 0,
      "outputs": []
    },
    {
      "metadata": {
        "id": "9UWRGxoxDNpF",
        "colab_type": "code",
        "colab": {
          "base_uri": "https://localhost:8080/",
          "height": 34
        },
        "outputId": "51c44dde-bd5c-4950-b5cf-06617312efc2"
      },
      "cell_type": "code",
      "source": [
        "f_bx = 1/(1+ex)\n",
        "\n",
        "print(f_bx)"
      ],
      "execution_count": 32,
      "outputs": [
        {
          "output_type": "stream",
          "text": [
            "0.9999999983799357\n"
          ],
          "name": "stdout"
        }
      ]
    },
    {
      "metadata": {
        "id": "rSG-m6hiD2a7",
        "colab_type": "text"
      },
      "cell_type": "markdown",
      "source": [
        "**Change in output after biasing**"
      ]
    },
    {
      "metadata": {
        "id": "6DGkUe9RDgPR",
        "colab_type": "code",
        "colab": {
          "base_uri": "https://localhost:8080/",
          "height": 34
        },
        "outputId": "b74d7a43-9eb5-48ae-c91d-a5ecfad4d53b"
      },
      "cell_type": "code",
      "source": [
        "diff = f - f_bx\n",
        "print(diff)"
      ],
      "execution_count": 33,
      "outputs": [
        {
          "output_type": "stream",
          "text": [
            "1.0807916783761584e-09\n"
          ],
          "name": "stdout"
        }
      ]
    },
    {
      "metadata": {
        "id": "l2la0GhsEPpI",
        "colab_type": "text"
      },
      "cell_type": "markdown",
      "source": [
        "***There is very very small change in output as compared to the initial one which is not biased.***"
      ]
    },
    {
      "metadata": {
        "id": "L7RIV7uoFSIz",
        "colab_type": "text"
      },
      "cell_type": "markdown",
      "source": [
        "**Role of Bias:**\n",
        "\n",
        "The main role of bias is that it is used to shift the value of activation function by adding some constants to it .\n",
        "In this case the curve of final output get shifted either in right or left side depends upon the value of constant."
      ]
    },
    {
      "metadata": {
        "id": "_wM-Q1WiEAmH",
        "colab_type": "code",
        "colab": {}
      },
      "cell_type": "code",
      "source": [
        ""
      ],
      "execution_count": 0,
      "outputs": []
    }
  ]
}