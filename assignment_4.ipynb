{
  "nbformat": 4,
  "nbformat_minor": 0,
  "metadata": {
    "colab": {
      "name": "assignment_4.ipynb",
      "version": "0.3.2",
      "provenance": []
    },
    "kernelspec": {
      "name": "python3",
      "display_name": "Python 3"
    }
  },
  "cells": [
    {
      "cell_type": "markdown",
      "metadata": {
        "id": "view-in-github",
        "colab_type": "text"
      },
      "source": [
        "[View in Colaboratory](https://colab.research.google.com/github/himu30/Machine_learning_with_python/blob/master/assignment_4.ipynb)"
      ]
    },
    {
      "metadata": {
        "id": "fLSDTv8SNWpr",
        "colab_type": "text"
      },
      "cell_type": "markdown",
      "source": [
        "**question-1**"
      ]
    },
    {
      "metadata": {
        "id": "71dQLdLnNKwh",
        "colab_type": "code",
        "colab": {
          "base_uri": "https://localhost:8080/",
          "height": 85
        },
        "outputId": "65c4f41d-b80b-4b08-c7c6-c64ab4d5448f"
      },
      "cell_type": "code",
      "source": [
        "#creating dataframe of 3 rows\n",
        "#importing pandas\n",
        "import pandas as pd\n",
        "#creating dictionary\n",
        "d = {'name':['Himanshu','Ronaldo','Dravid'],\n",
        "     'age' :[20,30,40],\n",
        "     'mail_id':['rj12@gmail.com','rd45@8.com','wall5@hotmail.com'],\n",
        "     'mobile_no':[2344556,234567,765432]\n",
        "    }\n",
        "data = pd.DataFrame(d)\n",
        "\n",
        "print(data)\n"
      ],
      "execution_count": 20,
      "outputs": [
        {
          "output_type": "stream",
          "text": [
            "   age            mail_id  mobile_no      name\n",
            "0   20     rj12@gmail.com    2344556  Himanshu\n",
            "1   30         rd45@8.com     234567   Ronaldo\n",
            "2   40  wall5@hotmail.com     765432    Dravid\n"
          ],
          "name": "stdout"
        }
      ]
    },
    {
      "metadata": {
        "id": "qeC-FaOGNd-R",
        "colab_type": "text"
      },
      "cell_type": "markdown",
      "source": [
        "**question-2**"
      ]
    },
    {
      "metadata": {
        "id": "WxK1aGFmNjlx",
        "colab_type": "code",
        "colab": {
          "base_uri": "https://localhost:8080/",
          "height": 2890
        },
        "outputId": "0d1d56f4-65fb-46ee-b5c5-7de41342011b"
      },
      "cell_type": "code",
      "source": [
        "#import data and perform statistics\n",
        "#reading csv file\n",
        "df = pd.read_csv(\"https://raw.githubusercontent.com/Shreyas3108/Weather/master/weather.csv\")\n",
        "#(a).first 5 rows of Dataframe\n",
        "s1=df.head()\n",
        "print(s1)\n",
        "#(b).first 10 rows of Dataframe\n",
        "s2=df.head(10)\n",
        "print(s2)\n",
        "#(c).basic statistics of particular Dataframe\n",
        "s3=df.describe(include ='all')\n",
        "print(s3)\n",
        "#(d).last five rows of dataframe\n",
        "s4=df.tail()\n",
        "print(s4)\n",
        "#(e).extract 2nd col and find stats\n",
        "df.iloc[:,2].describe(include ='all')"
      ],
      "execution_count": 30,
      "outputs": [
        {
          "output_type": "stream",
          "text": [
            "        Date  Location  MinTemp  MaxTemp  Rainfall  Evaporation  Sunshine  \\\n",
            "0  11/1/2007  Canberra      8.0     24.3       0.0          3.4       6.3   \n",
            "1  11/2/2007  Canberra     14.0     26.9       3.6          4.4       9.7   \n",
            "2  11/3/2007  Canberra     13.7     23.4       3.6          5.8       3.3   \n",
            "3  11/4/2007  Canberra     13.3     15.5      39.8          7.2       9.1   \n",
            "4  11/5/2007  Canberra      7.6     16.1       2.8          5.6      10.6   \n",
            "\n",
            "  WindGustDir  WindGustSpeed WindDir9am      ...      Humidity3pm  \\\n",
            "0          NW           30.0         SW      ...               29   \n",
            "1         ENE           39.0          E      ...               36   \n",
            "2          NW           85.0          N      ...               69   \n",
            "3          NW           54.0        WNW      ...               56   \n",
            "4         SSE           50.0        SSE      ...               49   \n",
            "\n",
            "   Pressure9am  Pressure3pm  Cloud9am  Cloud3pm  Temp9am  Temp3pm  RainToday  \\\n",
            "0       1019.7       1015.0         7         7     14.4     23.6         No   \n",
            "1       1012.4       1008.4         5         3     17.5     25.7        Yes   \n",
            "2       1009.5       1007.2         8         7     15.4     20.2        Yes   \n",
            "3       1005.5       1007.0         2         7     13.5     14.1        Yes   \n",
            "4       1018.3       1018.5         7         7     11.1     15.4        Yes   \n",
            "\n",
            "   RISK_MM  RainTomorrow  \n",
            "0      3.6           Yes  \n",
            "1      3.6           Yes  \n",
            "2     39.8           Yes  \n",
            "3      2.8           Yes  \n",
            "4      0.0            No  \n",
            "\n",
            "[5 rows x 24 columns]\n",
            "         Date  Location  MinTemp  MaxTemp  Rainfall  Evaporation  Sunshine  \\\n",
            "0   11/1/2007  Canberra      8.0     24.3       0.0          3.4       6.3   \n",
            "1   11/2/2007  Canberra     14.0     26.9       3.6          4.4       9.7   \n",
            "2   11/3/2007  Canberra     13.7     23.4       3.6          5.8       3.3   \n",
            "3   11/4/2007  Canberra     13.3     15.5      39.8          7.2       9.1   \n",
            "4   11/5/2007  Canberra      7.6     16.1       2.8          5.6      10.6   \n",
            "5   11/6/2007  Canberra      6.2     16.9       0.0          5.8       8.2   \n",
            "6   11/7/2007  Canberra      6.1     18.2       0.2          4.2       8.4   \n",
            "7   11/8/2007  Canberra      8.3     17.0       0.0          5.6       4.6   \n",
            "8   11/9/2007  Canberra      8.8     19.5       0.0          4.0       4.1   \n",
            "9  11/10/2007  Canberra      8.4     22.8      16.2          5.4       7.7   \n",
            "\n",
            "  WindGustDir  WindGustSpeed WindDir9am      ...      Humidity3pm  \\\n",
            "0          NW           30.0         SW      ...               29   \n",
            "1         ENE           39.0          E      ...               36   \n",
            "2          NW           85.0          N      ...               69   \n",
            "3          NW           54.0        WNW      ...               56   \n",
            "4         SSE           50.0        SSE      ...               49   \n",
            "5          SE           44.0         SE      ...               57   \n",
            "6          SE           43.0         SE      ...               47   \n",
            "7           E           41.0         SE      ...               57   \n",
            "8           S           48.0          E      ...               48   \n",
            "9           E           31.0          S      ...               32   \n",
            "\n",
            "   Pressure9am  Pressure3pm  Cloud9am  Cloud3pm  Temp9am  Temp3pm  RainToday  \\\n",
            "0       1019.7       1015.0         7         7     14.4     23.6         No   \n",
            "1       1012.4       1008.4         5         3     17.5     25.7        Yes   \n",
            "2       1009.5       1007.2         8         7     15.4     20.2        Yes   \n",
            "3       1005.5       1007.0         2         7     13.5     14.1        Yes   \n",
            "4       1018.3       1018.5         7         7     11.1     15.4        Yes   \n",
            "5       1023.8       1021.7         7         5     10.9     14.8         No   \n",
            "6       1024.6       1022.2         4         6     12.4     17.3         No   \n",
            "7       1026.2       1024.2         6         7     12.1     15.5         No   \n",
            "8       1026.1       1022.7         7         7     14.1     18.9         No   \n",
            "9       1024.1       1020.7         7         1     13.3     21.7        Yes   \n",
            "\n",
            "   RISK_MM  RainTomorrow  \n",
            "0      3.6           Yes  \n",
            "1      3.6           Yes  \n",
            "2     39.8           Yes  \n",
            "3      2.8           Yes  \n",
            "4      0.0            No  \n",
            "5      0.2            No  \n",
            "6      0.0            No  \n",
            "7      0.0            No  \n",
            "8     16.2           Yes  \n",
            "9      0.0            No  \n",
            "\n",
            "[10 rows x 24 columns]\n",
            "              Date  Location     MinTemp     MaxTemp    Rainfall  Evaporation  \\\n",
            "count          366       366  366.000000  366.000000  366.000000   366.000000   \n",
            "unique         366         1         NaN         NaN         NaN          NaN   \n",
            "top     10/31/2008  Canberra         NaN         NaN         NaN          NaN   \n",
            "freq             1       366         NaN         NaN         NaN          NaN   \n",
            "mean           NaN       NaN    7.265574   20.550273    1.428415     4.521858   \n",
            "std            NaN       NaN    6.025800    6.690516    4.225800     2.669383   \n",
            "min            NaN       NaN   -5.300000    7.600000    0.000000     0.200000   \n",
            "25%            NaN       NaN    2.300000   15.025000    0.000000     2.200000   \n",
            "50%            NaN       NaN    7.450000   19.650000    0.000000     4.200000   \n",
            "75%            NaN       NaN   12.500000   25.500000    0.200000     6.400000   \n",
            "max            NaN       NaN   20.900000   35.800000   39.800000    13.800000   \n",
            "\n",
            "          Sunshine WindGustDir  WindGustSpeed WindDir9am      ...       \\\n",
            "count   363.000000         363     364.000000        335      ...        \n",
            "unique         NaN          16            NaN         16      ...        \n",
            "top            NaN          NW            NaN         SE      ...        \n",
            "freq           NaN          73            NaN         47      ...        \n",
            "mean      7.909366         NaN      39.840659        NaN      ...        \n",
            "std       3.481517         NaN      13.059807        NaN      ...        \n",
            "min       0.000000         NaN      13.000000        NaN      ...        \n",
            "25%       5.950000         NaN      31.000000        NaN      ...        \n",
            "50%       8.600000         NaN      39.000000        NaN      ...        \n",
            "75%      10.500000         NaN      46.000000        NaN      ...        \n",
            "max      13.600000         NaN      98.000000        NaN      ...        \n",
            "\n",
            "       Humidity3pm  Pressure9am  Pressure3pm    Cloud9am    Cloud3pm  \\\n",
            "count   366.000000   366.000000   366.000000  366.000000  366.000000   \n",
            "unique         NaN          NaN          NaN         NaN         NaN   \n",
            "top            NaN          NaN          NaN         NaN         NaN   \n",
            "freq           NaN          NaN          NaN         NaN         NaN   \n",
            "mean     44.519126  1019.709016  1016.810383    3.890710    4.024590   \n",
            "std      16.850947     6.686212     6.469422    2.956131    2.666268   \n",
            "min      13.000000   996.500000   996.800000    0.000000    0.000000   \n",
            "25%      32.250000  1015.350000  1012.800000    1.000000    1.000000   \n",
            "50%      43.000000  1020.150000  1017.400000    3.500000    4.000000   \n",
            "75%      55.000000  1024.475000  1021.475000    7.000000    7.000000   \n",
            "max      96.000000  1035.700000  1033.200000    8.000000    8.000000   \n",
            "\n",
            "           Temp9am     Temp3pm  RainToday     RISK_MM  RainTomorrow  \n",
            "count   366.000000  366.000000        366  366.000000           366  \n",
            "unique         NaN         NaN          2         NaN             2  \n",
            "top            NaN         NaN         No         NaN            No  \n",
            "freq           NaN         NaN        300         NaN           300  \n",
            "mean     12.358470   19.230874        NaN    1.428415           NaN  \n",
            "std       5.630832    6.640346        NaN    4.225800           NaN  \n",
            "min       0.100000    5.100000        NaN    0.000000           NaN  \n",
            "25%       7.625000   14.150000        NaN    0.000000           NaN  \n",
            "50%      12.550000   18.550000        NaN    0.000000           NaN  \n",
            "75%      17.000000   24.000000        NaN    0.200000           NaN  \n",
            "max      24.700000   34.500000        NaN   39.800000           NaN  \n",
            "\n",
            "[11 rows x 24 columns]\n",
            "           Date  Location  MinTemp  MaxTemp  Rainfall  Evaporation  Sunshine  \\\n",
            "361  10/27/2008  Canberra      9.0     30.7       0.0          7.6      12.1   \n",
            "362  10/28/2008  Canberra      7.1     28.4       0.0         11.6      12.7   \n",
            "363  10/29/2008  Canberra     12.5     19.9       0.0          8.4       5.3   \n",
            "364  10/30/2008  Canberra     12.5     26.9       0.0          5.0       7.1   \n",
            "365  10/31/2008  Canberra     12.3     30.2       0.0          6.0      12.6   \n",
            "\n",
            "    WindGustDir  WindGustSpeed WindDir9am      ...      Humidity3pm  \\\n",
            "361         NNW           76.0        SSE      ...               15   \n",
            "362           N           48.0        NNW      ...               22   \n",
            "363         ESE           43.0        ENE      ...               47   \n",
            "364          NW           46.0        SSW      ...               39   \n",
            "365          NW           78.0         NW      ...               13   \n",
            "\n",
            "     Pressure9am  Pressure3pm  Cloud9am  Cloud3pm  Temp9am  Temp3pm  \\\n",
            "361       1016.1       1010.8         1         3     20.4     30.0   \n",
            "362       1020.0       1016.9         0         1     17.2     28.2   \n",
            "363       1024.0       1022.8         3         2     14.5     18.3   \n",
            "364       1021.0       1016.2         6         7     15.8     25.9   \n",
            "365       1009.6       1009.2         1         1     23.8     28.6   \n",
            "\n",
            "     RainToday  RISK_MM  RainTomorrow  \n",
            "361         No      0.0            No  \n",
            "362         No      0.0            No  \n",
            "363         No      0.0            No  \n",
            "364         No      0.0            No  \n",
            "365         No      0.0            No  \n",
            "\n",
            "[5 rows x 24 columns]\n"
          ],
          "name": "stdout"
        },
        {
          "output_type": "execute_result",
          "data": {
            "text/plain": [
              "count    366.000000\n",
              "mean       7.265574\n",
              "std        6.025800\n",
              "min       -5.300000\n",
              "25%        2.300000\n",
              "50%        7.450000\n",
              "75%       12.500000\n",
              "max       20.900000\n",
              "Name: MinTemp, dtype: float64"
            ]
          },
          "metadata": {
            "tags": []
          },
          "execution_count": 30
        }
      ]
    }
  ]
}