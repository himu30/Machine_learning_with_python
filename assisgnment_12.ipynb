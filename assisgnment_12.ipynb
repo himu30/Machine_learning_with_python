{
  "nbformat": 4,
  "nbformat_minor": 0,
  "metadata": {
    "colab": {
      "name": "assisgnment_12.ipynb",
      "version": "0.3.2",
      "provenance": []
    },
    "kernelspec": {
      "name": "python3",
      "display_name": "Python 3"
    }
  },
  "cells": [
    {
      "cell_type": "markdown",
      "metadata": {
        "id": "view-in-github",
        "colab_type": "text"
      },
      "source": [
        "[View in Colaboratory](https://colab.research.google.com/github/himu30/Machine_learning_with_python/blob/master/assisgnment_12.ipynb)"
      ]
    },
    {
      "metadata": {
        "id": "SdeeOhhP6FZ2",
        "colab_type": "text"
      },
      "cell_type": "markdown",
      "source": [
        "# Assignment - Accuracy and Metrics"
      ]
    },
    {
      "metadata": {
        "id": "cUGazHw04lP7",
        "colab_type": "code",
        "colab": {
          "base_uri": "https://localhost:8080/",
          "height": 34
        },
        "outputId": "0571a08e-0c95-48fd-8673-f02cf9c31f57"
      },
      "cell_type": "code",
      "source": [
        "!pip install --upgrade lxml"
      ],
      "execution_count": 11,
      "outputs": [
        {
          "output_type": "stream",
          "text": [
            "Requirement already up-to-date: lxml in /usr/local/lib/python3.6/dist-packages (4.2.1)\r\n"
          ],
          "name": "stdout"
        }
      ]
    },
    {
      "metadata": {
        "id": "tusbQYqi8B9c",
        "colab_type": "text"
      },
      "cell_type": "markdown",
      "source": [
        "**Q-1.)**"
      ]
    },
    {
      "metadata": {
        "id": "7I9rXb4RnVjJ",
        "colab_type": "code",
        "colab": {
          "base_uri": "https://localhost:8080/",
          "height": 158
        },
        "outputId": "40b09c4f-10e3-42b9-e646-7f8ec9548537"
      },
      "cell_type": "code",
      "source": [
        "#Importing libraries\n",
        "import pandas as pd\n",
        "import numpy as np\n",
        "import matplotlib.pyplot as plt\n",
        "#from lxml import etree\n",
        "\n",
        "#importing the dataset\n",
        "url = 'http://scikit-learn.org/stable/modules/generated/sklearn.datasets.load_digits.html'\n",
        "data = pd.read_html(url)\n",
        "\n",
        "print(data)"
      ],
      "execution_count": 15,
      "outputs": [
        {
          "output_type": "stream",
          "text": [
            "[                   0              1\n",
            "0            Classes             10\n",
            "1  Samples per class           ~180\n",
            "2      Samples total           1797\n",
            "3     Dimensionality             64\n",
            "4           Features  integers 0-16,              0                                                  1\n",
            "0  Parameters:  n_class : integer, between 0 and 10, optional ...\n",
            "1     Returns:  data : Bunch Dictionary-like object, the inter...]\n"
          ],
          "name": "stdout"
        }
      ]
    },
    {
      "metadata": {
        "id": "vOQyVy349y-D",
        "colab_type": "code",
        "colab": {
          "base_uri": "https://localhost:8080/",
          "height": 34
        },
        "outputId": "b20c4ef4-d23d-4004-a469-a094f48ff7a0"
      },
      "cell_type": "code",
      "source": [
        "from sklearn.datasets import load_digits\n",
        "\n",
        "digit = load_digits()\n",
        "#shape of loaded dataset(image data shape)\n",
        "digit.data.shape"
      ],
      "execution_count": 13,
      "outputs": [
        {
          "output_type": "execute_result",
          "data": {
            "text/plain": [
              "(1797, 64)"
            ]
          },
          "metadata": {
            "tags": []
          },
          "execution_count": 13
        }
      ]
    },
    {
      "metadata": {
        "id": "J_vuLqY3_394",
        "colab_type": "code",
        "colab": {
          "base_uri": "https://localhost:8080/",
          "height": 291
        },
        "outputId": "2bd2a022-eb32-475e-a364-ffc48f93c5ef"
      },
      "cell_type": "code",
      "source": [
        "#label datashape\n",
        "digit.target.shape\n",
        "\n",
        "#look of image in digit dataset\n",
        "plt.figure(figsize = (10,4))\n",
        "for index, (image,label) in enumerate(zip(digit.data[0:2], digit.target[0:2])):\n",
        "  plt.subplot(1, 2, index+1)\n",
        "  plt.imshow(np.reshape(image ,(8,8)), cmap=plt.cm.gray)\n",
        "  plt.title('Training %i\\n'%label,fontsize = 10)\n",
        "\n",
        "  #This is referenced from past lectures notes"
      ],
      "execution_count": 24,
      "outputs": [
        {
          "output_type": "display_data",
          "data": {
            "image/png": "[encoded data removed]",
            "text/plain": [
              "<matplotlib.figure.Figure at 0x7fa668c722e8>"
            ]
          },
          "metadata": {
            "tags": []
          }
        }
      ]
    },
    {
      "metadata": {
        "id": "giuXUMWjGxaO",
        "colab_type": "code",
        "colab": {
          "base_uri": "https://localhost:8080/",
          "height": 34
        },
        "outputId": "f09eb8c1-7db4-4d45-eece-d9ac933be914"
      },
      "cell_type": "code",
      "source": [
        "type(digit.data)\n",
        "\n",
        "type(digit.target)"
      ],
      "execution_count": 26,
      "outputs": [
        {
          "output_type": "execute_result",
          "data": {
            "text/plain": [
              "numpy.ndarray"
            ]
          },
          "metadata": {
            "tags": []
          },
          "execution_count": 26
        }
      ]
    },
    {
      "metadata": {
        "id": "Ad7gjeTD7IkW",
        "colab_type": "text"
      },
      "cell_type": "markdown",
      "source": [
        "**Q-4.)** and **Q-3.)**"
      ]
    },
    {
      "metadata": {
        "id": "3gMel_LYEPFn",
        "colab_type": "code",
        "colab": {
          "base_uri": "https://localhost:8080/",
          "height": 87
        },
        "outputId": "023e17a3-b3e1-468b-c159-b0c68839ab59"
      },
      "cell_type": "code",
      "source": [
        "from sklearn.model_selection import train_test_split\n",
        "\n",
        "x_train, x_test, y_train , y_test = train_test_split(digit.data , digit.target, test_size=0.30 , random_state=20)\n",
        "\n",
        "#importing logistic Regression model\n",
        "from sklearn.linear_model import LogisticRegression\n",
        "\n",
        "#initialise it to a variable\n",
        "l_reg = LogisticRegression()\n",
        "\n",
        "#now training of model on given dataset\n",
        "l_reg.fit(x_train, y_train)"
      ],
      "execution_count": 34,
      "outputs": [
        {
          "output_type": "execute_result",
          "data": {
            "text/plain": [
              "LogisticRegression(C=1.0, class_weight=None, dual=False, fit_intercept=True,\n",
              "          intercept_scaling=1, max_iter=100, multi_class='ovr', n_jobs=1,\n",
              "          penalty='l2', random_state=None, solver='liblinear', tol=0.0001,\n",
              "          verbose=0, warm_start=False)"
            ]
          },
          "metadata": {
            "tags": []
          },
          "execution_count": 34
        }
      ]
    },
    {
      "metadata": {
        "id": "tNy4UFOIcjtq",
        "colab_type": "code",
        "colab": {
          "base_uri": "https://localhost:8080/",
          "height": 461
        },
        "outputId": "90e954c0-d5b1-4278-d950-fa59921e0353"
      },
      "cell_type": "code",
      "source": [
        "#prediction part \n",
        "prediction = l_reg.predict(x_test)\n",
        "prediction"
      ],
      "execution_count": 40,
      "outputs": [
        {
          "output_type": "execute_result",
          "data": {
            "text/plain": [
              "array([0, 7, 9, 5, 8, 1, 3, 3, 7, 0, 9, 4, 7, 4, 0, 3, 1, 8, 1, 3, 7, 8,\n",
              "       4, 6, 1, 0, 1, 0, 5, 4, 7, 1, 6, 7, 8, 4, 3, 7, 4, 0, 5, 9, 0, 4,\n",
              "       8, 7, 4, 3, 6, 3, 9, 2, 2, 5, 7, 3, 7, 8, 3, 8, 6, 6, 8, 6, 8, 5,\n",
              "       0, 5, 3, 5, 0, 7, 3, 2, 9, 9, 3, 0, 2, 5, 5, 9, 2, 4, 5, 9, 7, 7,\n",
              "       2, 3, 0, 4, 6, 1, 1, 7, 1, 9, 9, 3, 4, 6, 7, 8, 1, 8, 4, 0, 1, 3,\n",
              "       6, 1, 5, 5, 1, 6, 0, 6, 2, 8, 9, 4, 1, 3, 4, 0, 6, 7, 7, 9, 8, 7,\n",
              "       8, 2, 4, 2, 5, 2, 3, 8, 7, 9, 8, 0, 0, 6, 2, 6, 9, 0, 9, 0, 0, 8,\n",
              "       7, 5, 3, 4, 0, 5, 6, 2, 6, 0, 4, 8, 7, 9, 2, 4, 3, 6, 4, 4, 5, 2,\n",
              "       8, 0, 7, 7, 3, 2, 2, 9, 0, 7, 2, 1, 6, 7, 9, 1, 5, 1, 6, 4, 6, 1,\n",
              "       3, 6, 1, 0, 8, 6, 5, 8, 8, 9, 1, 5, 1, 2, 6, 7, 5, 0, 1, 2, 4, 7,\n",
              "       0, 9, 6, 4, 7, 6, 5, 1, 2, 5, 5, 4, 6, 1, 7, 6, 1, 8, 9, 6, 2, 8,\n",
              "       5, 8, 3, 3, 9, 0, 3, 7, 9, 9, 1, 7, 0, 0, 5, 7, 3, 6, 3, 8, 6, 3,\n",
              "       6, 9, 8, 3, 3, 4, 4, 0, 7, 1, 5, 6, 1, 4, 6, 4, 9, 6, 3, 7, 4, 5,\n",
              "       2, 5, 6, 4, 0, 4, 2, 2, 3, 3, 2, 9, 0, 9, 7, 4, 9, 8, 6, 3, 2, 4,\n",
              "       9, 4, 2, 4, 4, 1, 7, 0, 0, 1, 6, 3, 6, 8, 5, 6, 1, 3, 8, 3, 6, 3,\n",
              "       8, 6, 6, 7, 7, 6, 4, 6, 1, 4, 1, 7, 9, 0, 1, 7, 4, 8, 5, 5, 2, 9,\n",
              "       3, 4, 6, 3, 7, 0, 0, 8, 0, 8, 8, 7, 1, 9, 4, 9, 2, 1, 5, 8, 1, 0,\n",
              "       6, 2, 5, 5, 9, 5, 7, 9, 1, 1, 1, 8, 1, 4, 3, 4, 6, 2, 9, 6, 5, 0,\n",
              "       1, 0, 9, 2, 5, 5, 7, 4, 0, 0, 3, 4, 7, 5, 4, 8, 9, 3, 8, 6, 6, 9,\n",
              "       1, 1, 5, 2, 7, 0, 4, 4, 1, 5, 9, 1, 5, 4, 1, 6, 5, 4, 6, 2, 9, 9,\n",
              "       9, 0, 1, 6, 6, 1, 5, 5, 3, 9, 9, 9, 3, 8, 3, 8, 8, 1, 9, 1, 3, 1,\n",
              "       3, 9, 1, 7, 7, 1, 8, 4, 3, 1, 9, 8, 3, 4, 6, 2, 7, 2, 3, 3, 3, 3,\n",
              "       0, 8, 7, 7, 3, 2, 3, 3, 5, 3, 4, 5, 0, 4, 2, 8, 4, 3, 2, 5, 6, 1,\n",
              "       3, 2, 4, 8, 2, 0, 0, 4, 7, 8, 8, 1, 1, 6, 8, 4, 2, 8, 5, 2, 5, 1,\n",
              "       9, 4, 9, 5, 3, 1, 4, 9, 1, 0, 9, 2])"
            ]
          },
          "metadata": {
            "tags": []
          },
          "execution_count": 40
        }
      ]
    },
    {
      "metadata": {
        "id": "Kb0r5Kwji-XC",
        "colab_type": "code",
        "colab": {
          "base_uri": "https://localhost:8080/",
          "height": 34
        },
        "outputId": "b0f88999-040a-4a7a-fac7-c3bf2bd93286"
      },
      "cell_type": "code",
      "source": [
        "#model performance\n",
        "l_reg.score(x_test , y_test)"
      ],
      "execution_count": 41,
      "outputs": [
        {
          "output_type": "execute_result",
          "data": {
            "text/plain": [
              "0.9685185185185186"
            ]
          },
          "metadata": {
            "tags": []
          },
          "execution_count": 41
        }
      ]
    },
    {
      "metadata": {
        "id": "ylI_1daacheX",
        "colab_type": "text"
      },
      "cell_type": "markdown",
      "source": [
        "**Q-5** *Classification Metrics*"
      ]
    },
    {
      "metadata": {
        "id": "LejSl1ImyrRe",
        "colab_type": "text"
      },
      "cell_type": "markdown",
      "source": [
        "part a.) **Classification matrix**"
      ]
    },
    {
      "metadata": {
        "id": "gnXicaqxcLTp",
        "colab_type": "code",
        "colab": {
          "base_uri": "https://localhost:8080/",
          "height": 34
        },
        "outputId": "2e553b65-a27f-47b6-a8f0-c702bd983a11"
      },
      "cell_type": "code",
      "source": [
        "#Classification accuracy\n",
        "from sklearn.metrics import accuracy_score\n",
        "accuracy_score(y_test,prediction)\n"
      ],
      "execution_count": 45,
      "outputs": [
        {
          "output_type": "execute_result",
          "data": {
            "text/plain": [
              "0.9685185185185186"
            ]
          },
          "metadata": {
            "tags": []
          },
          "execution_count": 45
        }
      ]
    },
    {
      "metadata": {
        "id": "Kd82yJfD2VnJ",
        "colab_type": "text"
      },
      "cell_type": "markdown",
      "source": [
        "part f.) **Confusion matrix**"
      ]
    },
    {
      "metadata": {
        "id": "Ua-aaJFsorCZ",
        "colab_type": "code",
        "colab": {
          "base_uri": "https://localhost:8080/",
          "height": 194
        },
        "outputId": "cf0baa12-21bf-461c-947b-6cf2704ac85d"
      },
      "cell_type": "code",
      "source": [
        "#Confusion matrix\n",
        "from sklearn.metrics import confusion_matrix\n",
        "confusion_matrix(y_test,prediction)\n"
      ],
      "execution_count": 47,
      "outputs": [
        {
          "output_type": "execute_result",
          "data": {
            "text/plain": [
              "array([[50,  0,  0,  0,  0,  0,  0,  0,  0,  0],\n",
              "       [ 0, 55,  0,  1,  0,  0,  0,  0,  0,  0],\n",
              "       [ 0,  0, 44,  0,  0,  0,  0,  0,  0,  0],\n",
              "       [ 0,  0,  0, 59,  0,  1,  0,  0,  3,  0],\n",
              "       [ 0,  1,  0,  0, 59,  0,  0,  0,  0,  0],\n",
              "       [ 0,  1,  0,  0,  0, 49,  0,  0,  0,  1],\n",
              "       [ 0,  0,  0,  0,  1,  1, 57,  0,  0,  0],\n",
              "       [ 0,  0,  0,  0,  0,  0,  0, 51,  0,  2],\n",
              "       [ 0,  3,  0,  0,  0,  0,  0,  1, 48,  0],\n",
              "       [ 0,  1,  0,  0,  0,  0,  0,  0,  0, 51]])"
            ]
          },
          "metadata": {
            "tags": []
          },
          "execution_count": 47
        }
      ]
    },
    {
      "metadata": {
        "id": "1_ypaqeR1FTj",
        "colab_type": "text"
      },
      "cell_type": "markdown",
      "source": [
        "part b.) **Logarithmic loss**"
      ]
    },
    {
      "metadata": {
        "id": "G6B2glm6tGye",
        "colab_type": "code",
        "colab": {
          "base_uri": "https://localhost:8080/",
          "height": 34
        },
        "outputId": "a9aa32d7-04ff-47b5-9b0e-d7aef7473f69"
      },
      "cell_type": "code",
      "source": [
        "#logarithmic loss\n",
        "from sklearn.metrics import log_loss\n",
        "pred = l_reg.predict_proba(x_test)\n",
        "log_loss(y_test , pred, labels=[0,1,2,3,4,5,6,7,8,9])"
      ],
      "execution_count": 54,
      "outputs": [
        {
          "output_type": "execute_result",
          "data": {
            "text/plain": [
              "0.18973455400842026"
            ]
          },
          "metadata": {
            "tags": []
          },
          "execution_count": 54
        }
      ]
    },
    {
      "metadata": {
        "id": "ZDy-FvGB1cDj",
        "colab_type": "text"
      },
      "cell_type": "markdown",
      "source": [
        "part e.) **Mean_Squared_error**"
      ]
    },
    {
      "metadata": {
        "id": "OLY-GuLvpiP0",
        "colab_type": "code",
        "colab": {
          "base_uri": "https://localhost:8080/",
          "height": 34
        },
        "outputId": "477452b6-e0d9-4cff-da7b-16961e296685"
      },
      "cell_type": "code",
      "source": [
        "#mean squared error\n",
        "from sklearn.metrics import mean_squared_error\n",
        "mean_squared_error(y_test , prediction)"
      ],
      "execution_count": 49,
      "outputs": [
        {
          "output_type": "execute_result",
          "data": {
            "text/plain": [
              "0.6462962962962963"
            ]
          },
          "metadata": {
            "tags": []
          },
          "execution_count": 49
        }
      ]
    },
    {
      "metadata": {
        "id": "hNqrM3ha1mpe",
        "colab_type": "text"
      },
      "cell_type": "markdown",
      "source": [
        "part d.)** Mean_absolute_error**"
      ]
    },
    {
      "metadata": {
        "id": "WW6uuUtrsmIa",
        "colab_type": "code",
        "colab": {
          "base_uri": "https://localhost:8080/",
          "height": 34
        },
        "outputId": "e2ab7197-0def-4bef-c6c8-1cd9d62b9887"
      },
      "cell_type": "code",
      "source": [
        "#Mean absolute error\n",
        "from sklearn.metrics import mean_absolute_error\n",
        "mean_absolute_error(y_test , prediction )"
      ],
      "execution_count": 50,
      "outputs": [
        {
          "output_type": "execute_result",
          "data": {
            "text/plain": [
              "0.12407407407407407"
            ]
          },
          "metadata": {
            "tags": []
          },
          "execution_count": 50
        }
      ]
    },
    {
      "metadata": {
        "id": "GLtfoSGw1QWU",
        "colab_type": "text"
      },
      "cell_type": "markdown",
      "source": [
        "part c.)** R^2 Metrics**"
      ]
    },
    {
      "metadata": {
        "id": "5QRe_OuFukK7",
        "colab_type": "code",
        "colab": {
          "base_uri": "https://localhost:8080/",
          "height": 34
        },
        "outputId": "8a4277f5-a23c-45c4-c6ff-2a5206aa86a6"
      },
      "cell_type": "code",
      "source": [
        "#r2 metrics\n",
        "from sklearn.metrics import r2_score\n",
        "r2_score(y_test,prediction)"
      ],
      "execution_count": 55,
      "outputs": [
        {
          "output_type": "execute_result",
          "data": {
            "text/plain": [
              "0.918778829399771"
            ]
          },
          "metadata": {
            "tags": []
          },
          "execution_count": 55
        }
      ]
    },
    {
      "metadata": {
        "id": "MvhcRG-H1-JD",
        "colab_type": "text"
      },
      "cell_type": "markdown",
      "source": [
        "part g.) **Classification report**"
      ]
    },
    {
      "metadata": {
        "id": "A7AXFw7Awpzj",
        "colab_type": "code",
        "colab": {
          "base_uri": "https://localhost:8080/",
          "height": 54
        },
        "outputId": "c2990dac-f025-4bd3-e821-d2fbea677163"
      },
      "cell_type": "code",
      "source": [
        "# Classification report\n",
        "from sklearn.metrics import classification_report\n",
        "classification_report(y_test,prediction)"
      ],
      "execution_count": 56,
      "outputs": [
        {
          "output_type": "execute_result",
          "data": {
            "text/plain": [
              "'             precision    recall  f1-score   support\\n\\n          0       1.00      1.00      1.00        50\\n          1       0.90      0.98      0.94        56\\n          2       1.00      1.00      1.00        44\\n          3       0.98      0.94      0.96        63\\n          4       0.98      0.98      0.98        60\\n          5       0.96      0.96      0.96        51\\n          6       1.00      0.97      0.98        59\\n          7       0.98      0.96      0.97        53\\n          8       0.94      0.92      0.93        52\\n          9       0.94      0.98      0.96        52\\n\\navg / total       0.97      0.97      0.97       540\\n'"
            ]
          },
          "metadata": {
            "tags": []
          },
          "execution_count": 56
        }
      ]
    },
    {
      "metadata": {
        "id": "L-bVaLUm2c6J",
        "colab_type": "code",
        "colab": {}
      },
      "cell_type": "code",
      "source": [
        ""
      ],
      "execution_count": 0,
      "outputs": []
    }
  ]
}