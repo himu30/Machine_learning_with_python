{
  "nbformat": 4,
  "nbformat_minor": 0,
  "metadata": {
    "colab": {
      "name": "assignment_1.ipynb",
      "version": "0.3.2",
      "provenance": []
    },
    "kernelspec": {
      "name": "python3",
      "display_name": "Python 3"
    }
  },
  "cells": [
    {
      "cell_type": "markdown",
      "metadata": {
        "id": "view-in-github",
        "colab_type": "text"
      },
      "source": [
        "[View in Colaboratory](https://colab.research.google.com/github/himu30/Machine_learning_with_python/blob/master/assignment_1.ipynb)"
      ]
    },
    {
      "metadata": {
        "id": "caH-hDst85BA",
        "colab_type": "code",
        "colab": {
          "base_uri": "https://localhost:8080/",
          "height": 85
        },
        "outputId": "d0615070-d1b9-4cd0-a7cc-5aab7d8cc6c4"
      },
      "cell_type": "code",
      "source": [
        "\n",
        "#Question 1\n",
        "#using possitive slicing\n",
        "x = [1,2,3,4,5,6,7,8,9,10,11,12,13,14,15,16]\n",
        "print(x[7:12])\n",
        "\n",
        "#using negative slicing\n",
        "print(x[-9:-4])\n",
        "\n",
        "#Question 2\n",
        "#print even number from x using slicing only\n",
        "print(x[1::2])\n",
        "#Question 3\n",
        "#x = [1,2,3,4,5,6,7,8,9,10,11,12,13,14,15,16]\n",
        "#print every 4rth number in given list\n",
        "print(x[0::4])"
      ],
      "execution_count": 12,
      "outputs": [
        {
          "output_type": "stream",
          "text": [
            "[8, 9, 10, 11, 12]\n",
            "[8, 9, 10, 11, 12]\n",
            "[2, 4, 6, 8, 10, 12, 14, 16]\n",
            "[1, 5, 9, 13]\n"
          ],
          "name": "stdout"
        }
      ]
    }
  ]
}